{
 "cells": [
  {
   "cell_type": "markdown",
   "metadata": {},
   "source": [
    "# Importing the necessary libraries"
   ]
  },
  {
   "cell_type": "code",
   "execution_count": 2,
   "metadata": {},
   "outputs": [],
   "source": [
    "# Import necessary libraries\n",
    "import pandas as pd #data-wrangling library\n",
    "import matplotlib.pyplot as plt #data-visualization library\n",
    "import seaborn as sns #data-visualization library\n",
    "import numpy as np\n",
    "import numpy as np # linear algebra\n",
    "import tensorflow as tf\n",
    "from tensorflow import keras\n",
    "from tensorflow.keras import layers\n",
    "import seaborn as sns\n",
    "import matplotlib.pyplot as plt\n",
    "from sklearn.model_selection import train_test_split\n",
    "from sklearn.metrics import accuracy_score, recall_score, precision_score, f1_score\n",
    "from sklearn.metrics import confusion_matrix\n",
    "from sklearn.preprocessing import LabelEncoder\n",
    "from scipy.stats import zscore\n",
    "from sklearn.model_selection import KFold\n",
    "from tensorflow.keras.models import Sequential\n",
    "from tensorflow.keras.layers import Dense, Activation\n",
    "from tensorflow.keras.datasets import cifar10\n",
    "from tensorflow.keras.models import Sequential\n",
    "from tensorflow.keras.layers import Dense, Flatten, Conv2D, MaxPooling2D\n",
    "from tensorflow.keras.losses import sparse_categorical_crossentropy\n",
    "from tensorflow.keras.optimizers import Adam\n",
    "from sklearn.model_selection import KFold\n",
    "import numpy as np\n",
    "# KNN model\n",
    "#Add these imports to the top of page\n",
    "from sklearn.neighbors import KNeighborsClassifier\n",
    "from sklearn.model_selection import cross_val_score\n",
    "from sklearn.metrics import multilabel_confusion_matrix, plot_confusion_matrix\n",
    "import pickle\n"
   ]
  },
  {
   "cell_type": "markdown",
   "metadata": {},
   "source": [
    "# Data Interpretation"
   ]
  },
  {
   "cell_type": "code",
   "execution_count": 3,
   "metadata": {},
   "outputs": [],
   "source": [
    "#This will read the csv file. First we will import the data from csv file.\n",
    "df = pd.read_csv('chocolate.csv')"
   ]
  },
  {
   "cell_type": "code",
   "execution_count": 4,
   "metadata": {
    "scrolled": true
   },
   "outputs": [
    {
     "data": {
      "text/html": [
       "<div>\n",
       "<style scoped>\n",
       "    .dataframe tbody tr th:only-of-type {\n",
       "        vertical-align: middle;\n",
       "    }\n",
       "\n",
       "    .dataframe tbody tr th {\n",
       "        vertical-align: top;\n",
       "    }\n",
       "\n",
       "    .dataframe thead th {\n",
       "        text-align: right;\n",
       "    }\n",
       "</style>\n",
       "<table border=\"1\" class=\"dataframe\">\n",
       "  <thead>\n",
       "    <tr style=\"text-align: right;\">\n",
       "      <th></th>\n",
       "      <th>Company \\n(Maker-if known)</th>\n",
       "      <th>Specific Bean Origin\\nor Bar Name</th>\n",
       "      <th>REF</th>\n",
       "      <th>Review\\nDate</th>\n",
       "      <th>Cocoa\\nPercent</th>\n",
       "      <th>Company\\nLocation</th>\n",
       "      <th>Rating</th>\n",
       "      <th>Bean\\nType</th>\n",
       "      <th>Broad Bean\\nOrigin</th>\n",
       "    </tr>\n",
       "  </thead>\n",
       "  <tbody>\n",
       "    <tr>\n",
       "      <th>0</th>\n",
       "      <td>Valrhona</td>\n",
       "      <td>Manjari</td>\n",
       "      <td>129</td>\n",
       "      <td>2007</td>\n",
       "      <td>64%</td>\n",
       "      <td>France</td>\n",
       "      <td>4.00</td>\n",
       "      <td>Criollo, Trinitario</td>\n",
       "      <td>Madagascar</td>\n",
       "    </tr>\n",
       "    <tr>\n",
       "      <th>1</th>\n",
       "      <td>Original Beans (Felchlin)</td>\n",
       "      <td>Grand Cru Blend No.1, 5 yr. Anniversary Ed</td>\n",
       "      <td>1442</td>\n",
       "      <td>2014</td>\n",
       "      <td>80%</td>\n",
       "      <td>Switzerland</td>\n",
       "      <td>3.25</td>\n",
       "      <td>Blend</td>\n",
       "      <td></td>\n",
       "    </tr>\n",
       "    <tr>\n",
       "      <th>2</th>\n",
       "      <td>Potomac</td>\n",
       "      <td>Upala w/ nibs</td>\n",
       "      <td>647</td>\n",
       "      <td>2011</td>\n",
       "      <td>70%</td>\n",
       "      <td>U.S.A.</td>\n",
       "      <td>3.50</td>\n",
       "      <td>Matina</td>\n",
       "      <td>Costa Rica</td>\n",
       "    </tr>\n",
       "    <tr>\n",
       "      <th>3</th>\n",
       "      <td>Middlebury</td>\n",
       "      <td>Matagalpa, Cacao Bisiesto</td>\n",
       "      <td>1538</td>\n",
       "      <td>2015</td>\n",
       "      <td>70%</td>\n",
       "      <td>U.S.A.</td>\n",
       "      <td>3.50</td>\n",
       "      <td></td>\n",
       "      <td>Nicaragua</td>\n",
       "    </tr>\n",
       "    <tr>\n",
       "      <th>4</th>\n",
       "      <td>Carlotta Chocolat</td>\n",
       "      <td>Cesar</td>\n",
       "      <td>1888</td>\n",
       "      <td>2016</td>\n",
       "      <td>65%</td>\n",
       "      <td>Colombia</td>\n",
       "      <td>3.50</td>\n",
       "      <td>CCN51</td>\n",
       "      <td>Colombia</td>\n",
       "    </tr>\n",
       "    <tr>\n",
       "      <th>...</th>\n",
       "      <td>...</td>\n",
       "      <td>...</td>\n",
       "      <td>...</td>\n",
       "      <td>...</td>\n",
       "      <td>...</td>\n",
       "      <td>...</td>\n",
       "      <td>...</td>\n",
       "      <td>...</td>\n",
       "      <td>...</td>\n",
       "    </tr>\n",
       "    <tr>\n",
       "      <th>1495</th>\n",
       "      <td>Dick Taylor</td>\n",
       "      <td>Ecuador</td>\n",
       "      <td>769</td>\n",
       "      <td>2011</td>\n",
       "      <td>70%</td>\n",
       "      <td>U.S.A.</td>\n",
       "      <td>3.25</td>\n",
       "      <td></td>\n",
       "      <td>Ecuador</td>\n",
       "    </tr>\n",
       "    <tr>\n",
       "      <th>1496</th>\n",
       "      <td>Zotter</td>\n",
       "      <td>Indianer, Raw</td>\n",
       "      <td>883</td>\n",
       "      <td>2012</td>\n",
       "      <td>58%</td>\n",
       "      <td>Austria</td>\n",
       "      <td>3.50</td>\n",
       "      <td></td>\n",
       "      <td></td>\n",
       "    </tr>\n",
       "    <tr>\n",
       "      <th>1497</th>\n",
       "      <td>Guido Castagna</td>\n",
       "      <td>Blend</td>\n",
       "      <td>355</td>\n",
       "      <td>2009</td>\n",
       "      <td>64%</td>\n",
       "      <td>Italy</td>\n",
       "      <td>3.25</td>\n",
       "      <td></td>\n",
       "      <td>Ven, Trinidad, Ecuador</td>\n",
       "    </tr>\n",
       "    <tr>\n",
       "      <th>1498</th>\n",
       "      <td>Willie's Cacao</td>\n",
       "      <td>Hacienda Las Trincheras</td>\n",
       "      <td>593</td>\n",
       "      <td>2010</td>\n",
       "      <td>72%</td>\n",
       "      <td>U.K.</td>\n",
       "      <td>3.50</td>\n",
       "      <td></td>\n",
       "      <td>Venezuela</td>\n",
       "    </tr>\n",
       "    <tr>\n",
       "      <th>1499</th>\n",
       "      <td>Hotel Chocolat</td>\n",
       "      <td>Pepiniere, single Cote</td>\n",
       "      <td>1654</td>\n",
       "      <td>2015</td>\n",
       "      <td>70%</td>\n",
       "      <td>U.K.</td>\n",
       "      <td>2.75</td>\n",
       "      <td></td>\n",
       "      <td>St. Lucia</td>\n",
       "    </tr>\n",
       "  </tbody>\n",
       "</table>\n",
       "<p>1500 rows × 9 columns</p>\n",
       "</div>"
      ],
      "text/plain": [
       "     Company \\n(Maker-if known)           Specific Bean Origin\\nor Bar Name  \\\n",
       "0                      Valrhona                                     Manjari   \n",
       "1     Original Beans (Felchlin)  Grand Cru Blend No.1, 5 yr. Anniversary Ed   \n",
       "2                       Potomac                               Upala w/ nibs   \n",
       "3                    Middlebury                   Matagalpa, Cacao Bisiesto   \n",
       "4             Carlotta Chocolat                                       Cesar   \n",
       "...                         ...                                         ...   \n",
       "1495                Dick Taylor                                     Ecuador   \n",
       "1496                     Zotter                               Indianer, Raw   \n",
       "1497             Guido Castagna                                       Blend   \n",
       "1498             Willie's Cacao                     Hacienda Las Trincheras   \n",
       "1499             Hotel Chocolat                      Pepiniere, single Cote   \n",
       "\n",
       "       REF  Review\\nDate Cocoa\\nPercent Company\\nLocation  Rating  \\\n",
       "0      129          2007            64%            France    4.00   \n",
       "1     1442          2014            80%       Switzerland    3.25   \n",
       "2      647          2011            70%            U.S.A.    3.50   \n",
       "3     1538          2015            70%            U.S.A.    3.50   \n",
       "4     1888          2016            65%          Colombia    3.50   \n",
       "...    ...           ...            ...               ...     ...   \n",
       "1495   769          2011            70%            U.S.A.    3.25   \n",
       "1496   883          2012            58%           Austria    3.50   \n",
       "1497   355          2009            64%             Italy    3.25   \n",
       "1498   593          2010            72%              U.K.    3.50   \n",
       "1499  1654          2015            70%              U.K.    2.75   \n",
       "\n",
       "               Bean\\nType      Broad Bean\\nOrigin  \n",
       "0     Criollo, Trinitario              Madagascar  \n",
       "1                   Blend                          \n",
       "2                  Matina              Costa Rica  \n",
       "3                                       Nicaragua  \n",
       "4                   CCN51                Colombia  \n",
       "...                   ...                     ...  \n",
       "1495                                      Ecuador  \n",
       "1496                                               \n",
       "1497                       Ven, Trinidad, Ecuador  \n",
       "1498                                    Venezuela  \n",
       "1499                                    St. Lucia  \n",
       "\n",
       "[1500 rows x 9 columns]"
      ]
     },
     "execution_count": 4,
     "metadata": {},
     "output_type": "execute_result"
    }
   ],
   "source": [
    "#To understand the data set\n",
    "df"
   ]
  },
  {
   "cell_type": "markdown",
   "metadata": {},
   "source": [
    "#This will give the info about the dataset\n",
    "df.info()"
   ]
  },
  {
   "cell_type": "code",
   "execution_count": 5,
   "metadata": {},
   "outputs": [],
   "source": [
    "#Desribe is used to understand the data variance and distribution\n",
    "#df.describe(include=\"all\")"
   ]
  },
  {
   "cell_type": "code",
   "execution_count": 6,
   "metadata": {},
   "outputs": [],
   "source": [
    "#This will change the column names to given names\n",
    "df.columns=['Company','Specific Bean','REF','Review Date','Cocoa Percent','Company Location','Rating','Bean Type','Bean origin']"
   ]
  },
  {
   "cell_type": "code",
   "execution_count": 7,
   "metadata": {},
   "outputs": [
    {
     "data": {
      "text/html": [
       "<div>\n",
       "<style scoped>\n",
       "    .dataframe tbody tr th:only-of-type {\n",
       "        vertical-align: middle;\n",
       "    }\n",
       "\n",
       "    .dataframe tbody tr th {\n",
       "        vertical-align: top;\n",
       "    }\n",
       "\n",
       "    .dataframe thead th {\n",
       "        text-align: right;\n",
       "    }\n",
       "</style>\n",
       "<table border=\"1\" class=\"dataframe\">\n",
       "  <thead>\n",
       "    <tr style=\"text-align: right;\">\n",
       "      <th></th>\n",
       "      <th>Company</th>\n",
       "      <th>Specific Bean</th>\n",
       "      <th>REF</th>\n",
       "      <th>Review Date</th>\n",
       "      <th>Cocoa Percent</th>\n",
       "      <th>Company Location</th>\n",
       "      <th>Rating</th>\n",
       "      <th>Bean Type</th>\n",
       "      <th>Bean origin</th>\n",
       "    </tr>\n",
       "  </thead>\n",
       "  <tbody>\n",
       "    <tr>\n",
       "      <th>0</th>\n",
       "      <td>Valrhona</td>\n",
       "      <td>Manjari</td>\n",
       "      <td>129</td>\n",
       "      <td>2007</td>\n",
       "      <td>64%</td>\n",
       "      <td>France</td>\n",
       "      <td>4.00</td>\n",
       "      <td>Criollo, Trinitario</td>\n",
       "      <td>Madagascar</td>\n",
       "    </tr>\n",
       "    <tr>\n",
       "      <th>1</th>\n",
       "      <td>Original Beans (Felchlin)</td>\n",
       "      <td>Grand Cru Blend No.1, 5 yr. Anniversary Ed</td>\n",
       "      <td>1442</td>\n",
       "      <td>2014</td>\n",
       "      <td>80%</td>\n",
       "      <td>Switzerland</td>\n",
       "      <td>3.25</td>\n",
       "      <td>Blend</td>\n",
       "      <td></td>\n",
       "    </tr>\n",
       "    <tr>\n",
       "      <th>2</th>\n",
       "      <td>Potomac</td>\n",
       "      <td>Upala w/ nibs</td>\n",
       "      <td>647</td>\n",
       "      <td>2011</td>\n",
       "      <td>70%</td>\n",
       "      <td>U.S.A.</td>\n",
       "      <td>3.50</td>\n",
       "      <td>Matina</td>\n",
       "      <td>Costa Rica</td>\n",
       "    </tr>\n",
       "    <tr>\n",
       "      <th>3</th>\n",
       "      <td>Middlebury</td>\n",
       "      <td>Matagalpa, Cacao Bisiesto</td>\n",
       "      <td>1538</td>\n",
       "      <td>2015</td>\n",
       "      <td>70%</td>\n",
       "      <td>U.S.A.</td>\n",
       "      <td>3.50</td>\n",
       "      <td></td>\n",
       "      <td>Nicaragua</td>\n",
       "    </tr>\n",
       "    <tr>\n",
       "      <th>4</th>\n",
       "      <td>Carlotta Chocolat</td>\n",
       "      <td>Cesar</td>\n",
       "      <td>1888</td>\n",
       "      <td>2016</td>\n",
       "      <td>65%</td>\n",
       "      <td>Colombia</td>\n",
       "      <td>3.50</td>\n",
       "      <td>CCN51</td>\n",
       "      <td>Colombia</td>\n",
       "    </tr>\n",
       "    <tr>\n",
       "      <th>...</th>\n",
       "      <td>...</td>\n",
       "      <td>...</td>\n",
       "      <td>...</td>\n",
       "      <td>...</td>\n",
       "      <td>...</td>\n",
       "      <td>...</td>\n",
       "      <td>...</td>\n",
       "      <td>...</td>\n",
       "      <td>...</td>\n",
       "    </tr>\n",
       "    <tr>\n",
       "      <th>1495</th>\n",
       "      <td>Dick Taylor</td>\n",
       "      <td>Ecuador</td>\n",
       "      <td>769</td>\n",
       "      <td>2011</td>\n",
       "      <td>70%</td>\n",
       "      <td>U.S.A.</td>\n",
       "      <td>3.25</td>\n",
       "      <td></td>\n",
       "      <td>Ecuador</td>\n",
       "    </tr>\n",
       "    <tr>\n",
       "      <th>1496</th>\n",
       "      <td>Zotter</td>\n",
       "      <td>Indianer, Raw</td>\n",
       "      <td>883</td>\n",
       "      <td>2012</td>\n",
       "      <td>58%</td>\n",
       "      <td>Austria</td>\n",
       "      <td>3.50</td>\n",
       "      <td></td>\n",
       "      <td></td>\n",
       "    </tr>\n",
       "    <tr>\n",
       "      <th>1497</th>\n",
       "      <td>Guido Castagna</td>\n",
       "      <td>Blend</td>\n",
       "      <td>355</td>\n",
       "      <td>2009</td>\n",
       "      <td>64%</td>\n",
       "      <td>Italy</td>\n",
       "      <td>3.25</td>\n",
       "      <td></td>\n",
       "      <td>Ven, Trinidad, Ecuador</td>\n",
       "    </tr>\n",
       "    <tr>\n",
       "      <th>1498</th>\n",
       "      <td>Willie's Cacao</td>\n",
       "      <td>Hacienda Las Trincheras</td>\n",
       "      <td>593</td>\n",
       "      <td>2010</td>\n",
       "      <td>72%</td>\n",
       "      <td>U.K.</td>\n",
       "      <td>3.50</td>\n",
       "      <td></td>\n",
       "      <td>Venezuela</td>\n",
       "    </tr>\n",
       "    <tr>\n",
       "      <th>1499</th>\n",
       "      <td>Hotel Chocolat</td>\n",
       "      <td>Pepiniere, single Cote</td>\n",
       "      <td>1654</td>\n",
       "      <td>2015</td>\n",
       "      <td>70%</td>\n",
       "      <td>U.K.</td>\n",
       "      <td>2.75</td>\n",
       "      <td></td>\n",
       "      <td>St. Lucia</td>\n",
       "    </tr>\n",
       "  </tbody>\n",
       "</table>\n",
       "<p>1500 rows × 9 columns</p>\n",
       "</div>"
      ],
      "text/plain": [
       "                        Company                               Specific Bean  \\\n",
       "0                      Valrhona                                     Manjari   \n",
       "1     Original Beans (Felchlin)  Grand Cru Blend No.1, 5 yr. Anniversary Ed   \n",
       "2                       Potomac                               Upala w/ nibs   \n",
       "3                    Middlebury                   Matagalpa, Cacao Bisiesto   \n",
       "4             Carlotta Chocolat                                       Cesar   \n",
       "...                         ...                                         ...   \n",
       "1495                Dick Taylor                                     Ecuador   \n",
       "1496                     Zotter                               Indianer, Raw   \n",
       "1497             Guido Castagna                                       Blend   \n",
       "1498             Willie's Cacao                     Hacienda Las Trincheras   \n",
       "1499             Hotel Chocolat                      Pepiniere, single Cote   \n",
       "\n",
       "       REF  Review Date Cocoa Percent Company Location  Rating  \\\n",
       "0      129         2007           64%           France    4.00   \n",
       "1     1442         2014           80%      Switzerland    3.25   \n",
       "2      647         2011           70%           U.S.A.    3.50   \n",
       "3     1538         2015           70%           U.S.A.    3.50   \n",
       "4     1888         2016           65%         Colombia    3.50   \n",
       "...    ...          ...           ...              ...     ...   \n",
       "1495   769         2011           70%           U.S.A.    3.25   \n",
       "1496   883         2012           58%          Austria    3.50   \n",
       "1497   355         2009           64%            Italy    3.25   \n",
       "1498   593         2010           72%             U.K.    3.50   \n",
       "1499  1654         2015           70%             U.K.    2.75   \n",
       "\n",
       "                Bean Type             Bean origin  \n",
       "0     Criollo, Trinitario              Madagascar  \n",
       "1                   Blend                          \n",
       "2                  Matina              Costa Rica  \n",
       "3                                       Nicaragua  \n",
       "4                   CCN51                Colombia  \n",
       "...                   ...                     ...  \n",
       "1495                                      Ecuador  \n",
       "1496                                               \n",
       "1497                       Ven, Trinidad, Ecuador  \n",
       "1498                                    Venezuela  \n",
       "1499                                    St. Lucia  \n",
       "\n",
       "[1500 rows x 9 columns]"
      ]
     },
     "execution_count": 7,
     "metadata": {},
     "output_type": "execute_result"
    }
   ],
   "source": [
    "df"
   ]
  },
  {
   "cell_type": "markdown",
   "metadata": {},
   "source": [
    "# Analysing the dataset through visualizations"
   ]
  },
  {
   "cell_type": "code",
   "execution_count": 8,
   "metadata": {},
   "outputs": [
    {
     "data": {
      "text/plain": [
       "<seaborn.axisgrid.PairGrid at 0x2c1a6f1b0d0>"
      ]
     },
     "execution_count": 8,
     "metadata": {},
     "output_type": "execute_result"
    },
    {
     "data": {
      "image/png": "[encoded data removed]",
      "text/plain": [
       "<Figure size 540x540 with 12 Axes>"
      ]
     },
     "metadata": {
      "needs_background": "light"
     },
     "output_type": "display_data"
    }
   ],
   "source": [
    "df.shape\n",
    "sns.pairplot(df)"
   ]
  },
  {
   "cell_type": "code",
   "execution_count": 9,
   "metadata": {},
   "outputs": [
    {
     "data": {
      "text/plain": [
       "Text(0.5, 1.0, 'Top 5 Locations with maximum number of companies')"
      ]
     },
     "execution_count": 9,
     "metadata": {},
     "output_type": "execute_result"
    },
    {
     "data": {
      "image/png": "[encoded data removed]",
      "text/plain": [
       "<Figure size 432x288 with 1 Axes>"
      ]
     },
     "metadata": {
      "needs_background": "light"
     },
     "output_type": "display_data"
    }
   ],
   "source": [
    "#creating visualizations for individual columns\n",
    "age_bin = 10\n",
    "company=df['Company Location'].value_counts().sort_values(ascending=False).head(5)\n",
    "company.plot(kind='bar', color='orange',legend=None)\n",
    "plt.xlabel('Company location name')\n",
    "plt.ylabel('Total number of location')\n",
    "plt.title('Top 5 Locations with maximum number of companies')"
   ]
  },
  {
   "cell_type": "code",
   "execution_count": 10,
   "metadata": {},
   "outputs": [
    {
     "data": {
      "text/plain": [
       "Text(0.5, 1.0, 'Top 5 companies selling chocolates ')"
      ]
     },
     "execution_count": 10,
     "metadata": {},
     "output_type": "execute_result"
    },
    {
     "data": {
      "image/png": "[encoded data removed]",
      "text/plain": [
       "<Figure size 432x288 with 1 Axes>"
      ]
     },
     "metadata": {
      "needs_background": "light"
     },
     "output_type": "display_data"
    }
   ],
   "source": [
    "#creating visualizations for individual columns\n",
    "age_bin = 10\n",
    "company=df['Company'].value_counts().sort_values(ascending=False).head(5)\n",
    "company.plot(kind='bar', color='green',legend=None)\n",
    "plt.xlabel('Company Name')\n",
    "plt.ylabel('Total number of campanies')\n",
    "plt.title('Top 5 companies selling chocolates ')"
   ]
  },
  {
   "cell_type": "code",
   "execution_count": 11,
   "metadata": {},
   "outputs": [
    {
     "data": {
      "text/plain": [
       "Text(0.5, 1.0, 'Top 5 Origin of beans')"
      ]
     },
     "execution_count": 11,
     "metadata": {},
     "output_type": "execute_result"
    },
    {
     "data": {
      "image/png": "[encoded data removed]",
      "text/plain": [
       "<Figure size 432x288 with 1 Axes>"
      ]
     },
     "metadata": {
      "needs_background": "light"
     },
     "output_type": "display_data"
    }
   ],
   "source": [
    "#creating visualizations for individual columns\n",
    "age_bin = 10\n",
    "company=df['Bean origin'].value_counts().sort_values(ascending=False).head(5)\n",
    "company.plot(kind='bar', color='blue',legend=None)\n",
    "plt.xlabel('Origin source')\n",
    "plt.ylabel('Count')\n",
    "plt.title('Top 5 Origin of beans')"
   ]
  },
  {
   "cell_type": "code",
   "execution_count": 12,
   "metadata": {},
   "outputs": [
    {
     "data": {
      "text/plain": [
       "Text(0.5, 1.0, 'Top 5 Bean types')"
      ]
     },
     "execution_count": 12,
     "metadata": {},
     "output_type": "execute_result"
    },
    {
     "data": {
      "image/png": "[encoded data removed]",
      "text/plain": [
       "<Figure size 432x288 with 1 Axes>"
      ]
     },
     "metadata": {
      "needs_background": "light"
     },
     "output_type": "display_data"
    }
   ],
   "source": [
    "#creating visualizations for individual columns\n",
    "age_bin = 10\n",
    "company=df['Bean Type'].value_counts().sort_values(ascending=False).head(5)\n",
    "company.plot(kind='bar', color='red',legend=None)\n",
    "plt.xlabel('Bean Type Names')\n",
    "plt.ylabel('Count')\n",
    "plt.title('Top 5 Bean types')"
   ]
  },
  {
   "cell_type": "code",
   "execution_count": 13,
   "metadata": {},
   "outputs": [
    {
     "name": "stderr",
     "output_type": "stream",
     "text": [
      "C:\\Users\\prati\\anaconda3\\lib\\site-packages\\seaborn\\_decorators.py:36: FutureWarning: Pass the following variables as keyword args: x, y. From version 0.12, the only valid positional argument will be `data`, and passing other arguments without an explicit keyword will result in an error or misinterpretation.\n",
      "  warnings.warn(\n"
     ]
    },
    {
     "data": {
      "text/plain": [
       "Text(0.5, 1.0, 'cocoa percentage as per rating')"
      ]
     },
     "execution_count": 13,
     "metadata": {},
     "output_type": "execute_result"
    },
    {
     "data": {
      "image/png": "[encoded data removed]",
      "text/plain": [
       "<Figure size 432x288 with 1 Axes>"
      ]
     },
     "metadata": {
      "needs_background": "light"
     },
     "output_type": "display_data"
    }
   ],
   "source": [
    "#scatterplot to define cocoa percentage as per rating\n",
    "sns.scatterplot(df['Cocoa Percent'].apply(lambda x: float(x.split('%')[0])), df['Rating']);\n",
    "plt.title('cocoa percentage as per rating')"
   ]
  },
  {
   "cell_type": "markdown",
   "metadata": {},
   "source": [
    "# Step 1 : Data Cleaning "
   ]
  },
  {
   "cell_type": "code",
   "execution_count": 14,
   "metadata": {},
   "outputs": [],
   "source": [
    "# Dropping the column Specific Bean Origin or Bar Name because it is irrelevant as it's representing similar \n",
    "#information with Bean origin and REF is refectled in Review date\n",
    "df.drop(['Specific Bean','REF'],axis=1,inplace=True)"
   ]
  },
  {
   "cell_type": "code",
   "execution_count": 15,
   "metadata": {},
   "outputs": [
    {
     "data": {
      "text/plain": [
       "                            750\n",
       "Trinitario                  342\n",
       "Criollo                     128\n",
       "Forastero                    67\n",
       "Forastero (Nacional)         46\n",
       "Blend                        34\n",
       "Criollo, Trinitario          33\n",
       "Forastero (Arriba)           32\n",
       "Trinitario, Criollo           9\n",
       "Forastero (Parazinho)         8\n",
       "Criollo (Porcelana)           8\n",
       "Forastero (Arriba) ASS        6\n",
       "Beniano                       3\n",
       "EET                           3\n",
       "Nacional (Arriba)             3\n",
       "Criollo, Forastero            2\n",
       "Amazon mix                    2\n",
       "Trinitario (85% Criollo)      2\n",
       "Amazon, ICS                   2\n",
       "Matina                        2\n",
       "Criollo (Ocumare 61)          2\n",
       "Trinitario (Amelonado)        1\n",
       "Trinitario, Forastero         1\n",
       "Trinitario (Scavina)          1\n",
       "CCN51                         1\n",
       "Trinitario, TCGA              1\n",
       "Criollo (Ocumare 77)          1\n",
       "Criollo (Amarru)              1\n",
       "Forastero (Catongo)           1\n",
       "Criollo (Wild)                1\n",
       "Forastero, Trinitario         1\n",
       "Forastero (Arriba) ASSS       1\n",
       "Nacional                      1\n",
       "Criollo (Ocumare 67)          1\n",
       "Blend-Forastero,Criollo       1\n",
       "Trinitario, Nacional          1\n",
       "Name: Bean Type, dtype: int64"
      ]
     },
     "execution_count": 15,
     "metadata": {},
     "output_type": "execute_result"
    }
   ],
   "source": [
    "#Now for cleaning the variables and checking if there is any impossible values/extra white spaces present in the categorical variables\n",
    "\n",
    "df['Bean Type'].value_counts()"
   ]
  },
  {
   "cell_type": "code",
   "execution_count": 16,
   "metadata": {},
   "outputs": [
    {
     "name": "stdout",
     "output_type": "stream",
     "text": [
      "['A. Morin' 'AMMA' 'Acalli' 'Adi' 'Aequare (Gianduja)' 'Ah Cacao'\n",
      " \"Akesson's (Pralus)\" 'Alain Ducasse' 'Alexandre' 'Altus aka Cao Artisan'\n",
      " 'Amano' 'Amatller (Simon Coll)' 'Amazona' 'Ambrosia' 'Amedei' 'Anahata'\n",
      " 'Ara' 'Arete' 'Artisan du Chocolat' 'Artisan du Chocolat (Casa Luker)'\n",
      " 'Askinosie' 'Bahen & Co.' 'Bakau' 'Bar Au Chocolat' \"Baravelli's\" 'Batch'\n",
      " 'Beau Cacao' 'Beehive' 'Belcolade' 'Bellflower' 'Belyzium'\n",
      " 'Benoit Nihant' 'Beschle (Felchlin)' 'Bisou' 'Bittersweet Origins'\n",
      " 'Black Mountain' 'Blanxart' 'Blue Bandana' 'Bonnat'\n",
      " 'Bouga Cacao (Tulicorp)' 'Bowler Man' \"Brasstown aka It's Chocolate\"\n",
      " 'Brazen' 'Bright' 'Britarev' 'Bronx Grrl Chocolate' 'Burnt Fork Bend'\n",
      " 'C-Amaro' 'Cacao Arabuco' 'Cacao Atlanta' 'Cacao Barry' 'Cacao Hunters'\n",
      " 'Cacao Market' 'Cacao Prieto' 'Cacao Sampaka' 'Cacao Store'\n",
      " 'Cacao de Origen' 'Cacaoyere (Ecuatoriana)' 'Callebaut' 'Cao'\n",
      " 'Caoni (Tulicorp)' 'Captain Pembleton' 'Caribeans' 'Carlotta Chocolat'\n",
      " 'Castronovo' 'Cello' 'Cemoi' 'Chaleur B' 'Charm School'\n",
      " 'Chchukululu (Tulicorp)' 'Chequessett' 'Chloe Chocolat' 'Chocablog'\n",
      " 'Choco Del Sol' 'Choco Dong' 'ChocoReko' \"Chocola'te\" 'Chocolarder'\n",
      " 'Chocolate Alchemist-Philly' 'Chocolate Con Amor' 'Chocolate Conspiracy'\n",
      " 'Chocolate Makers' 'Chocolate Tree, The' 'Chocolats Privilege' 'Chocovic'\n",
      " 'Chocovivo' 'Choklat' 'Chokolat Elot (Girard)' 'Choocsol'\n",
      " 'Christopher Morel (Felchlin)' 'Chuao Chocolatier'\n",
      " 'Chuao Chocolatier (Pralus)' 'Claudio Corallo' 'Coleman & Davis'\n",
      " 'Compania de Chocolate (Salgado)' 'Condor' 'Confluence' 'Coppeneur'\n",
      " \"Cote d' Or (Kraft)\" 'Cravve' 'Creo' 'DAR' 'Daintree' 'Dalloway' 'Damson'\n",
      " 'Dandelion' 'Danta' 'Dark Forest' 'Davis' 'De Villiers' 'DeVries'\n",
      " 'Dean and Deluca (Belcolade)' 'Debauve & Gallais (Michel Cluizel)'\n",
      " 'Desbarres' 'Dick Taylor' 'Doble & Bignall' 'Dole (Guittard)'\n",
      " 'Dolfin (Belcolade)' 'Domori' 'Dormouse' \"Duffy's\" 'Dulcinea' 'Durand'\n",
      " 'Durci' 'East Van Roasters' 'Eau de Rose' 'Eclat (Felchlin)' 'El Ceibo'\n",
      " 'El Rey' 'Emerald Estate' \"Emily's\" 'Erithaj (A. Morin)' 'Escazu'\n",
      " \"Ethel's Artisan (Mars)\" 'Ethereal' 'Fearless (AMMA)' 'Feitoria Cacao'\n",
      " 'Felchlin' 'Finca' 'Forever Cacao' 'Forteza (Cortes)' 'Fossa'\n",
      " 'Franceschi' 'Frederic Blondeel' 'French Broad' 'Fresco' 'Friis Holm'\n",
      " 'Friis Holm (Bonnat)' 'Fruition' 'Garden Island' 'Georgia Ramon'\n",
      " 'Glennmade' 'Goodnow Farms' \"Green & Black's (ICAM)\" 'Green Bean to Bar'\n",
      " 'Grenada Chocolate Co.' 'Guido Castagna' 'Guittard' 'Habitual' 'Hachez'\n",
      " 'Hacienda El Castillo' 'Haigh' 'Harper Macaw'\n",
      " 'Heirloom Cacao Preservation (Fruition)'\n",
      " 'Heirloom Cacao Preservation (Guittard)'\n",
      " 'Heirloom Cacao Preservation (Millcreek)'\n",
      " 'Heirloom Cacao Preservation (Mindo)'\n",
      " 'Heirloom Cacao Preservation (Zokoko)' 'Hogarth' 'Hoja Verde (Tulicorp)'\n",
      " 'Holy Cacao' 'Honest' 'Hotel Chocolat' 'Hotel Chocolat (Coppeneur)'\n",
      " 'Hummingbird' 'Idilio (Felchlin)' 'Indah' 'Indaphoria' 'Indi' 'Isidro'\n",
      " 'Izard' 'Jacque Torres' 'Jordis' 'Just Good Chocolate' \"K'ul\" 'Kah Kow'\n",
      " 'Kakao' 'Kallari (Ecuatoriana)' 'Kaoka (Cemoi)' 'Kerchner' 'Kiskadee'\n",
      " 'Kto' 'Kyya' \"L'Amourette\" 'L.A. Burdick (Felchlin)'\n",
      " 'La Chocolaterie Nanairo' 'La Maison du Chocolat (Valrhona)'\n",
      " 'La Oroquidea' 'La Pepa de Oro' 'Laia aka Chat-Noir'\n",
      " 'Lake Champlain (Callebaut)' 'Letterpress' 'Lillie Belle'\n",
      " 'Lindt & Sprungli' 'Loiza' 'Lonohana' 'Love Bar' 'Luker'\n",
      " 'Machu Picchu Trading Co.' 'Madecasse (Cinagra)' 'Madre' 'Maglio'\n",
      " 'Majani' 'Malagasy (Chocolaterie Robert)' 'Malagos'\n",
      " 'Malie Kai (Guittard)' 'Malmo' 'Mana' 'Manifesto Cacao' 'Manoa'\n",
      " 'Manufaktura Czekolady' 'Map Chocolate' 'Marana' \"Marigold's Finest\"\n",
      " 'Marou' 'Mars' 'Marsatta' 'Martin Mayer' 'Mast Brothers' 'Matale'\n",
      " 'Maverick' 'Mayacama' 'Meadowlands' 'Menakao (aka Cinagra)' 'Mesocacao'\n",
      " 'Metiisto' 'Metropolitan' 'Michel Cluizel' 'Middlebury'\n",
      " 'Millcreek Cacao Roasters' 'Mindo' 'Minimal' 'Mission' 'Mita' 'Moho'\n",
      " 'Molucca' 'Momotombo' 'Monarque' 'Monsieur Truffe' 'Montecristi'\n",
      " 'Muchomas (Mesocacao)' 'Mutari' 'Nahua' 'Naive' 'Nanea' 'Nathan Miller'\n",
      " 'Na�ve' 'Neuhaus (Callebaut)' 'Nibble' 'Night Owl'\n",
      " 'Noble Bean aka Jerjobo' \"Noir d' Ebine\" 'Nova Monda' 'Nuance' 'Nugali'\n",
      " 'Oakland Chocolate Co.' 'Obolo' 'Ocelot' 'Ocho' 'Ohiyo'\n",
      " 'Oialla by Bojessen (Malmo)' 'Olive and Sinclair' 'Olivia' 'Omanhene'\n",
      " 'Omnom' 'Original Beans (Felchlin)' 'Original Hawaiin Chocolate Factory'\n",
      " 'Orquidea' 'Pacari' 'Palette de Bine' 'Pangea' 'Park 75' 'Parliament'\n",
      " 'Pascha' 'Patric' 'Paul Young' 'Peppalo' 'Pierre Marcolini' 'Pinellas'\n",
      " 'Pitch Dark' 'Pomm (aka Dead Dog)' 'Potomac' 'Pralus'\n",
      " 'Pump Street Bakery' 'Pura Delizia' 'Q Chocolate' 'Quetzalli (Wolter)'\n",
      " 'Raaka' 'Rain Republic' 'Ranger' 'Raoul Boulanger' 'Raw Cocoa'\n",
      " 'Republica del Cacao (aka Confecta)' 'Ritual' 'Roasting Masters'\n",
      " 'Robert (aka Chocolaterie Robert)' 'Rococo (Grenada Chocolate Co.)'\n",
      " 'Rogue' 'Rozsavolgyi' 'S.A.I.D.' 'SRSLY' 'Sacred' 'Salgado'\n",
      " 'Santander (Compania Nacional)' 'Santome' 'Scharffen Berger'\n",
      " 'Shark Mountain' \"Shark's\" 'Shattel' 'Shattell' 'Sibu' 'Sibu Sura'\n",
      " 'Silvio Bessone' 'Sirene' 'Sjolinds' 'Smooth Chocolator, The'\n",
      " 'Snake & Butterfly' 'Sol Cacao' 'Solomons Gold' 'Solstice' 'Soma'\n",
      " 'Somerville' 'Soul' 'Spagnvola' 'Spencer' 'Sprungli (Felchlin)'\n",
      " 'StRita Supreme' 'Starchild' 'Stella (aka Bernrain)' 'Stone Grindz'\n",
      " 'Sublime Origins' 'Summerbird' 'Suruca Chocolate' 'Svenska Kakaobolaget'\n",
      " 'Szanto Tibor' 'TCHO' 'Tabal' 'Tablette (aka Vanillabeans)'\n",
      " 'Tan Ban Skrati' 'Taza' 'Tejas' 'Terroir' 'The Barn' 'Theo' 'Theobroma'\n",
      " 'Timo A. Meyer' \"To'ak (Ecuatoriana)\" 'Tobago Estate (Pralus)' 'Tocoti'\n",
      " 'Tsara (Cinagra)' 'Two Ravens' 'Un Dimanche A Paris' 'Undone' 'Upchurch'\n",
      " 'Urzi' 'Valrhona' 'Vanleer (Barry Callebaut)'\n",
      " 'Vao Vao (Chocolaterie Robert)' 'Vicuna' 'Videri' 'Vintage Plantations'\n",
      " 'Vintage Plantations (Tulicorp)' 'Violet Sky' 'Vivra'\n",
      " 'Wellington Chocolate Factory' 'Whittakers' \"Wilkie's Organic\"\n",
      " \"Willie's Cacao\" 'Wm' 'Woodblock' 'Xocolat' 'Xocolla' \"Zak's\"\n",
      " 'Zart Pralinen' 'Zokoko' 'Zotter' 'hello cocoa' 'hexx' 'iQ Chocolate'\n",
      " 'organicfair' 'twenty-four blackbirds']\n"
     ]
    }
   ],
   "source": [
    "#For the company table, check if there is any inconsistent or irrelevant information in the variables or if any variable is repeated\n",
    "print(df['Company'].sort_values().unique())"
   ]
  },
  {
   "cell_type": "code",
   "execution_count": 17,
   "metadata": {},
   "outputs": [],
   "source": [
    "#To remove the white spaces and the information given in the brackets for some companies as it is irrelevant. Also some special characters are present,\n",
    "#hence replacing them\n",
    "df['Company'] = df['Company'].str.replace(r'[^(]*\\(|\\)[^)]*', '')\n",
    "df['Company'] = df['Company'].str.replace('Na�ve','Naive')\n",
    "df['Company'] = df['Company'].str.replace('[^\\w\\s]','')\n",
    "df['Company'] = df['Company'].str.replace('  ','')"
   ]
  },
  {
   "cell_type": "code",
   "execution_count": 18,
   "metadata": {},
   "outputs": [
    {
     "data": {
      "text/plain": [
       "1"
      ]
     },
     "execution_count": 18,
     "metadata": {},
     "output_type": "execute_result"
    }
   ],
   "source": [
    "#Let's fill na with the mode again...\n",
    "df[\"Bean Type\"].isna().sum()"
   ]
  },
  {
   "cell_type": "code",
   "execution_count": 19,
   "metadata": {},
   "outputs": [],
   "source": [
    "#This will replace all the null values into nan\n",
    "df = df.replace('\\xa0', np.nan)"
   ]
  },
  {
   "cell_type": "code",
   "execution_count": 20,
   "metadata": {},
   "outputs": [
    {
     "name": "stdout",
     "output_type": "stream",
     "text": [
      "Before Cleaning bean origin column: \n",
      "['Madagascar' nan 'Costa Rica' 'Nicaragua' 'Colombia' 'Ecuador' 'Trinidad'\n",
      " 'Venezuela' 'Dominican Republic' 'Peru' 'Peru, Mad., Dom. Rep.'\n",
      " 'Domincan Republic' 'Jamaica' 'Vietnam' 'Mexico' 'Honduras' 'Guatemala'\n",
      " 'Sri Lanka' 'Indonesia' 'Puerto Rico' 'St. Lucia' 'Hawaii'\n",
      " 'Peru, Ecuador' 'Ghana' 'Brazil' 'Ivory Coast' 'Uganda' 'Samoa'\n",
      " 'Tanzania' 'Papua New Guinea' 'Togo' 'Bolivia' 'Panama' 'Belize'\n",
      " 'Vanuatu' 'Fiji' 'Peru, Madagascar' 'Central and S. America' 'Tobago'\n",
      " 'Sao Tome' 'Trinidad, Tobago' 'Cuba' 'Ven, Bolivia, D.R.'\n",
      " 'Sao Tome & Principe' 'Carribean' 'Venezuela, Dom. Rep.'\n",
      " 'Dominican Rep., Bali' 'Ghana, Panama, Ecuador' 'Grenada' 'Principe'\n",
      " 'Venezuela, Trinidad' 'Australia' 'South America' 'Colombia, Ecuador'\n",
      " 'Ecuador, Costa Rica' 'South America, Africa' 'Malaysia' 'Congo'\n",
      " 'PNG, Vanuatu, Mad' 'Gre., PNG, Haw., Haiti, Mad' 'Haiti' 'Philippines'\n",
      " 'Ven., Trinidad, Mad.' 'Suriname' 'Peru, Ecuador, Venezuela' 'Martinique'\n",
      " 'Dom. Rep., Madagascar' 'Peru, Belize' 'Africa, Carribean, C. Am.'\n",
      " 'Trinidad-Tobago' 'Trinidad, Ecuador' 'Solomon Islands'\n",
      " 'Ghana, Domin. Rep' 'Indonesia, Ghana' 'Carribean(DR/Jam/Tri)' 'India'\n",
      " 'Venez,Africa,Brasil,Peru,Mex' 'Ghana & Madagascar' 'Venezuela, Java'\n",
      " 'El Salvador' 'Cost Rica, Ven' 'Madagascar & Ecuador'\n",
      " 'Ecuador, Mad., PNG' 'Mad., Java, PNG' 'West Africa' 'DR, Ecuador, Peru'\n",
      " 'Nigeria' 'Peru, Dom. Rep' 'Liberia' 'Venezuela, Ghana'\n",
      " 'Ven.,Ecu.,Peru,Nic.' 'Burma' 'Ven, Trinidad, Ecuador']\n",
      "After Cleaning bean origin column: \n",
      "['Madagascar' nan 'Costa Rica' 'Nicaragua' 'Colombia' 'Ecuador' 'Trinidad'\n",
      " 'Venezuela' 'Dominican Republic' 'Peru'\n",
      " 'Peru, Madagascar, Dominican Republic' 'Jamaica' 'Vietnam' 'Mexico'\n",
      " 'Honduras' 'Guatemala' 'Sri Lanka' 'Indonesia' 'Puerto Rico' 'St. Lucia'\n",
      " 'Hawaii' 'Peru, Ecuador' 'Ghana' 'Brazil' 'Ivory Coast' 'Uganda' 'Samoa'\n",
      " 'Tanzania' 'Papua New Guinea' 'Togo' 'Bolivia' 'Panama' 'Belize'\n",
      " 'Vanuatu' 'Fiji' 'Peru, Madagascar' 'Central and South America' 'Tobago'\n",
      " 'Sao Tome' 'Trinidad, Tobago' 'Cuba' 'Ven, Bolivia, D.R.'\n",
      " 'Sao Tome & Principe' 'Carribean' 'Venezuela, Dom. Rep.'\n",
      " 'Dominican Rep., Bali' 'Ghana, Panama, Ecuador' 'Grenada' 'Principe'\n",
      " 'Venezuela, Trinidad' 'Australia' 'South America' 'Colombia, Ecuador'\n",
      " 'Ecuador, Costa Rica' 'South America, Africa' 'Malaysia' 'Congo'\n",
      " 'Papua New Guinea, Vanuatu, Madagascar'\n",
      " 'Grenada, Papua New Guinea, Hawaii, Haiti, Madagascar' 'Haiti'\n",
      " 'Philippines' 'Venezuela, Trinidad, Madagascar' 'Suriname'\n",
      " 'Peru, Ecuador, Venezuela' 'Martinique' 'Dom. Rep., Madagascar'\n",
      " 'Peru, Belize' 'Africa, Carribean, C. Am.' 'Trinidad, Ecuador'\n",
      " 'Solomon Islands' 'Ghana, Dominican Republic' 'Indonesia, Ghana' 'India'\n",
      " 'Venez,Africa,Brasil,Peru,Mex' 'Ghana & Madagascar' 'Venezuela, Java'\n",
      " 'El Salvador' 'Cost Rica, Ven' 'Madagascar & Ecuador'\n",
      " 'Ecuador, Madagascar, Papua New Guinea'\n",
      " 'Madagascar, Java, Papua New Guinea' 'West Africa' 'DR, Ecuador, Peru'\n",
      " 'Nigeria' 'Peru, Dom. Rep' 'Liberia' 'Venezuela, Ghana'\n",
      " 'Venezuela, Ecuador, Peru, Nicaragua' 'Burma'\n",
      " 'Venezuela, Trinidad, Ecuador']\n"
     ]
    }
   ],
   "source": [
    "# Data cleaning regarding the Broad Bean Origin column as there are lot of spelling mistakes\n",
    "print (\"Before Cleaning bean origin column: \")\n",
    "print (df['Bean origin'].unique())\n",
    "df['Bean origin'] = df['Bean origin'].replace('Domincan Republic', 'Dominican Republic')\n",
    "df['Bean origin'] = df['Bean origin'].replace('Carribean(DR/Jam/Tri)', 'Carribean')\n",
    "df['Bean origin'] = df['Bean origin'].replace('Trinidad-Tobago', 'Trinidad, Tobago')\n",
    "df['Bean origin'] = df['Bean origin'].replace(\"Peru, Mad., Dom. Rep.\", \"Peru, Madagascar, Dominican Republic\")\n",
    "df['Bean origin'] = df['Bean origin'].replace(\"Central and S. America\", \"Central and South America\")\n",
    "df['Bean origin'] = df['Bean origin'].replace(\"PNG, Vanuatu, Mad\", \"Papua New Guinea, Vanuatu, Madagascar\")\n",
    "df['Bean origin'] = df['Bean origin'].replace(\"Ven., Trinidad, Mad.\", \"Venezuela, Trinidad, Madagascar\")\n",
    "df['Bean origin'] = df['Bean origin'].replace(\"Ven.,Ecu.,Peru,Nic.\", \"Venezuela, Ecuador, Peru, Nicaragua\")\n",
    "df['Bean origin'] = df['Bean origin'].replace(\"Ven, Trinidad, Ecuador\",\"Venezuela, Trinidad, Ecuador\")\n",
    "df['Bean origin'] = df['Bean origin'].replace(\"Ghana, Domin. Rep\", \"Ghana, Dominican Republic\")\n",
    "df['Bean origin'] = df['Bean origin'].replace(\"Ecuador, Mad., PNG\",\"Ecuador, Madagascar, Papua New Guinea\")\n",
    "df['Bean origin'] = df['Bean origin'].replace(\"Mad., Java, PNG\",\"Madagascar, Java, Papua New Guinea\")\n",
    "df['Bean origin'] = df['Bean origin'].replace(\"Gre., PNG, Haw., Haiti, Mad\", \"Grenada, Papua New Guinea, Hawaii, Haiti, Madagascar\")\n",
    "\n",
    "print (\"After Cleaning bean origin column: \")\n",
    "print (df['Bean origin'].unique())"
   ]
  },
  {
   "cell_type": "code",
   "execution_count": 21,
   "metadata": {},
   "outputs": [],
   "source": [
    "#Replacing the % in Cocoa Percent as it is not a string field \n",
    "df[\"Cocoa Percent\"]=df[\"Cocoa Percent\"].str.replace(\"%\",\"\").astype(float)\n",
    "df[\"Cocoa Percent\"]=df[\"Cocoa Percent\"]/100"
   ]
  },
  {
   "cell_type": "code",
   "execution_count": 22,
   "metadata": {},
   "outputs": [
    {
     "name": "stdout",
     "output_type": "stream",
     "text": [
      "57\n",
      "['Amsterdam' 'Argentina' 'Australia' 'Austria' 'Belgium' 'Bolivia'\n",
      " 'Brazil' 'Canada' 'Chile' 'Colombia' 'Costa Rica' 'Czech Republic'\n",
      " 'Denmark' 'Domincan Republic' 'Ecuador' 'Fiji' 'France' 'Germany' 'Ghana'\n",
      " 'Grenada' 'Guatemala' 'Honduras' 'Hungary' 'Iceland' 'India' 'Ireland'\n",
      " 'Israel' 'Italy' 'Japan' 'Lithuania' 'Madagascar' 'Martinique' 'Mexico'\n",
      " 'Netherlands' 'New Zealand' 'Nicaragua' 'Peru' 'Philippines' 'Poland'\n",
      " 'Portugal' 'Puerto Rico' 'Russia' 'Sao Tome' 'Scotland' 'Singapore'\n",
      " 'South Africa' 'South Korea' 'Spain' 'St. Lucia' 'Suriname' 'Sweden'\n",
      " 'Switzerland' 'U.K.' 'U.S.A.' 'Venezuela' 'Vietnam' 'Wales']\n"
     ]
    },
    {
     "data": {
      "text/plain": [
       "U.S.A.               632\n",
       "France               124\n",
       "Canada               108\n",
       "U.K.                  79\n",
       "Italy                 59\n",
       "Ecuador               47\n",
       "Australia             46\n",
       "Belgium               33\n",
       "Switzerland           29\n",
       "Germany               27\n",
       "Colombia              22\n",
       "Austria               22\n",
       "Spain                 20\n",
       "Hungary               19\n",
       "New Zealand           17\n",
       "Japan                 17\n",
       "Venezuela             16\n",
       "Denmark               14\n",
       "Peru                  14\n",
       "Brazil                14\n",
       "Madagascar            13\n",
       "Guatemala              9\n",
       "Costa Rica             8\n",
       "Israel                 8\n",
       "Scotland               8\n",
       "Vietnam                7\n",
       "Argentina              7\n",
       "Poland                 6\n",
       "Honduras               6\n",
       "Lithuania              5\n",
       "Domincan Republic      5\n",
       "Nicaragua              5\n",
       "South Korea            5\n",
       "Sweden                 5\n",
       "Netherlands            4\n",
       "Mexico                 3\n",
       "Grenada                3\n",
       "Fiji                   3\n",
       "Amsterdam              3\n",
       "Puerto Rico            3\n",
       "South Africa           3\n",
       "Bolivia                2\n",
       "Iceland                2\n",
       "Chile                  2\n",
       "St. Lucia              2\n",
       "Ireland                2\n",
       "Portugal               2\n",
       "Wales                  1\n",
       "Ghana                  1\n",
       "Czech Republic         1\n",
       "India                  1\n",
       "Suriname               1\n",
       "Martinique             1\n",
       "Sao Tome               1\n",
       "Singapore              1\n",
       "Russia                 1\n",
       "Philippines            1\n",
       "Name: Company Location, dtype: int64"
      ]
     },
     "execution_count": 22,
     "metadata": {},
     "output_type": "execute_result"
    }
   ],
   "source": [
    "#For company location, first check all the unique values and replace if there is unneccesary characters in the values\n",
    "print(df['Company Location'].nunique())\n",
    "print(df['Company Location'].sort_values().unique())\n",
    "df['Company Location'].value_counts()"
   ]
  },
  {
   "cell_type": "code",
   "execution_count": 23,
   "metadata": {},
   "outputs": [
    {
     "name": "stdout",
     "output_type": "stream",
     "text": [
      "['Africa, Carribean, C. Am.' 'Australia' 'Belize' 'Bolivia' 'Brazil'\n",
      " 'Burma' 'Carribean' 'Central and South America' 'Colombia'\n",
      " 'Colombia, Ecuador' 'Congo' 'Cost Rica, Ven' 'Costa Rica' 'Cuba'\n",
      " 'DR, Ecuador, Peru' 'Dom. Rep., Madagascar' 'Dominican Rep., Bali'\n",
      " 'Dominican Republic' 'Ecuador' 'Ecuador, Costa Rica'\n",
      " 'Ecuador, Madagascar, Papua New Guinea' 'El Salvador' 'Fiji' 'Ghana'\n",
      " 'Ghana & Madagascar' 'Ghana, Dominican Republic' 'Ghana, Panama, Ecuador'\n",
      " 'Grenada' 'Grenada, Papua New Guinea, Hawaii, Haiti, Madagascar'\n",
      " 'Guatemala' 'Haiti' 'Hawaii' 'Honduras' 'India' 'Indonesia'\n",
      " 'Indonesia, Ghana' 'Ivory Coast' 'Jamaica' 'Liberia' 'Madagascar'\n",
      " 'Madagascar & Ecuador' 'Madagascar, Java, Papua New Guinea' 'Malaysia'\n",
      " 'Martinique' 'Mexico' 'Nicaragua' 'Nigeria' 'Panama' 'Papua New Guinea'\n",
      " 'Papua New Guinea, Vanuatu, Madagascar' 'Peru' 'Peru, Belize'\n",
      " 'Peru, Dom. Rep' 'Peru, Ecuador' 'Peru, Ecuador, Venezuela'\n",
      " 'Peru, Madagascar' 'Peru, Madagascar, Dominican Republic' 'Philippines'\n",
      " 'Principe' 'Puerto Rico' 'Samoa' 'Sao Tome' 'Sao Tome & Principe'\n",
      " 'Solomon Islands' 'South America' 'South America, Africa' 'Sri Lanka'\n",
      " 'St. Lucia' 'Suriname' 'Tanzania' 'Tobago' 'Togo' 'Trinidad'\n",
      " 'Trinidad, Ecuador' 'Trinidad, Tobago' 'Uganda' 'Vanuatu'\n",
      " 'Ven, Bolivia, D.R.' 'Venez,Africa,Brasil,Peru,Mex' 'Venezuela'\n",
      " 'Venezuela, Dom. Rep.' 'Venezuela, Ecuador, Peru, Nicaragua'\n",
      " 'Venezuela, Ghana' 'Venezuela, Java' 'Venezuela, Trinidad'\n",
      " 'Venezuela, Trinidad, Ecuador' 'Venezuela, Trinidad, Madagascar'\n",
      " 'Vietnam' 'West Africa' nan]\n"
     ]
    },
    {
     "data": {
      "text/plain": [
       "Venezuela                       174\n",
       "Ecuador                         164\n",
       "Peru                            140\n",
       "Dominican Republic              136\n",
       "Madagascar                      120\n",
       "                               ... \n",
       "Venezuela, Trinidad, Ecuador      1\n",
       "Dominican Rep., Bali              1\n",
       "Venez,Africa,Brasil,Peru,Mex      1\n",
       "Ghana, Panama, Ecuador            1\n",
       "Peru, Ecuador, Venezuela          1\n",
       "Name: Bean origin, Length: 89, dtype: int64"
      ]
     },
     "execution_count": 23,
     "metadata": {},
     "output_type": "execute_result"
    }
   ],
   "source": [
    "#For bean origin, first check all the unique values and replace if there is unneccesary characters in the values\n",
    "print(df['Bean origin'].sort_values().unique())\n",
    "df['Bean origin'].value_counts()"
   ]
  },
  {
   "cell_type": "code",
   "execution_count": 24,
   "metadata": {},
   "outputs": [
    {
     "name": "stdout",
     "output_type": "stream",
     "text": [
      "['Amazon mix' 'Amazon, ICS' 'Beniano' 'Blend' 'Blend-Forastero,Criollo'\n",
      " 'CCN51' 'Criollo' 'Criollo (Amarru)' 'Criollo (Ocumare 61)'\n",
      " 'Criollo (Ocumare 67)' 'Criollo (Ocumare 77)' 'Criollo (Porcelana)'\n",
      " 'Criollo (Wild)' 'Criollo, Forastero' 'Criollo, Trinitario' 'EET'\n",
      " 'Forastero' 'Forastero (Arriba)' 'Forastero (Arriba) ASS'\n",
      " 'Forastero (Arriba) ASSS' 'Forastero (Catongo)' 'Forastero (Nacional)'\n",
      " 'Forastero (Parazinho)' 'Forastero, Trinitario' 'Matina' 'Nacional'\n",
      " 'Nacional (Arriba)' 'Trinitario' 'Trinitario (85% Criollo)'\n",
      " 'Trinitario (Amelonado)' 'Trinitario (Scavina)' 'Trinitario, Criollo'\n",
      " 'Trinitario, Forastero' 'Trinitario, Nacional' 'Trinitario, TCGA' nan]\n"
     ]
    },
    {
     "data": {
      "text/plain": [
       "Trinitario                  342\n",
       "Criollo                     128\n",
       "Forastero                    67\n",
       "Forastero (Nacional)         46\n",
       "Blend                        34\n",
       "Criollo, Trinitario          33\n",
       "Forastero (Arriba)           32\n",
       "Trinitario, Criollo           9\n",
       "Criollo (Porcelana)           8\n",
       "Forastero (Parazinho)         8\n",
       "Forastero (Arriba) ASS        6\n",
       "EET                           3\n",
       "Beniano                       3\n",
       "Nacional (Arriba)             3\n",
       "Criollo, Forastero            2\n",
       "Amazon mix                    2\n",
       "Trinitario (85% Criollo)      2\n",
       "Amazon, ICS                   2\n",
       "Matina                        2\n",
       "Criollo (Ocumare 61)          2\n",
       "Trinitario (Amelonado)        1\n",
       "Trinitario, Forastero         1\n",
       "Trinitario (Scavina)          1\n",
       "CCN51                         1\n",
       "Trinitario, TCGA              1\n",
       "Criollo (Ocumare 77)          1\n",
       "Criollo (Amarru)              1\n",
       "Forastero (Catongo)           1\n",
       "Criollo (Wild)                1\n",
       "Forastero, Trinitario         1\n",
       "Forastero (Arriba) ASSS       1\n",
       "Nacional                      1\n",
       "Criollo (Ocumare 67)          1\n",
       "Blend-Forastero,Criollo       1\n",
       "Trinitario, Nacional          1\n",
       "Name: Bean Type, dtype: int64"
      ]
     },
     "execution_count": 24,
     "metadata": {},
     "output_type": "execute_result"
    }
   ],
   "source": [
    "#For bean type, first check all the unique values and group by all th types into specific categories such as \n",
    "#grouping Amazon categories into one variable\n",
    "print(df['Bean Type'].sort_values().unique())\n",
    "df['Bean Type'].value_counts()"
   ]
  },
  {
   "cell_type": "code",
   "execution_count": 25,
   "metadata": {},
   "outputs": [
    {
     "name": "stdout",
     "output_type": "stream",
     "text": [
      "['Criollo, Trinitario' 'Blend' 'Matina' nan 'CCN51' 'Forastero (Arriba)'\n",
      " 'Trinitario' 'Criollo' 'Amazon mix' 'Nacional' 'Forastero (Nacional)'\n",
      " 'Forastero' 'Criollo (Ocumare 61)' 'Trinitario, Criollo'\n",
      " 'Trinitario (85% Criollo)' 'Criollo (Amarru)' 'Beniano'\n",
      " 'Forastero (Parazinho)' 'Criollo (Porcelana)' 'Criollo (Ocumare 67)'\n",
      " 'Criollo (Wild)' 'Nacional (Arriba)' 'Criollo, Forastero' 'Amazon, ICS'\n",
      " 'Blend-Forastero,Criollo' 'Trinitario (Amelonado)' 'EET'\n",
      " 'Trinitario, TCGA' 'Forastero, Trinitario' 'Trinitario, Nacional'\n",
      " 'Trinitario, Forastero' 'Trinitario (Scavina)' 'Criollo (Ocumare 77)'\n",
      " 'Forastero (Catongo)']\n"
     ]
    }
   ],
   "source": [
    "# Replacing the bean type as these belong to the same type\n",
    "df['Bean Type'] = df['Bean Type'].replace('Forastero (Arriba) ASSS', 'Forastero (Arriba)')\n",
    "df['Bean Type'] = df['Bean Type'].replace('Forastero (Arriba) ASS', 'Forastero (Arriba)')\n",
    "print (df['Bean Type'].unique())"
   ]
  },
  {
   "cell_type": "code",
   "execution_count": 26,
   "metadata": {},
   "outputs": [],
   "source": [
    "# This step is being done to create a dictionary after grouping the bean types into 6 categories for easier encoding. This dictionary is \n",
    "# then mapped to a new column and after that the former column has been dropped.\n",
    "dict_type = {'Amazon':'Forastero', \n",
    "                  'Amazon mix':'Forastero',\n",
    "                  'Amazon, ICS':'Forastero',\n",
    "                  'Beniano':'Forastero',\n",
    "                  'Blend':'Blend',\n",
    "                  'Blend-Forastero,Criollo':'Blend',\n",
    "                  'CCN51':'hybrid',\n",
    "                  'Criollo':'Criollo',\n",
    "                  'Criollo (Amarru)':'Criollo',\n",
    "                  'Criollo (Ocumare 61)':'Hybrid',\n",
    "                  'Criollo (Ocumare 67)':'Hybrid',\n",
    "                  'Criollo (Ocumare 77)':'Hybrid',\n",
    "                  'Criollo (Ocumare)':'Hybrid',\n",
    "                  'Criollo (Porcelana)':'Criollo',\n",
    "                  'Criollo (Wild)':'Criollo',\n",
    "                  'Criollo, +':'Criollo',\n",
    "                  'Criollo, Forastero':'Blend',\n",
    "                  'Criollo, Trinitario':'Blend',\n",
    "                  'EET':'Hybrid',\n",
    "                  'Forastero':'Forastero',\n",
    "                  'Forastero (Amelonado)':'Forastero',\n",
    "                  'Forastero (Arriba)':'Forastero',\n",
    "                  'Forastero (Arriba) ASS':'Forastero',\n",
    "                  'Forastero (Arriba) ASSS':'Forastero',\n",
    "                  'Forastero (Catongo)':'Forastero',\n",
    "                  'Forastero (Nacional)':'Forastero',\n",
    "                  'Forastero (Parazinho)':'Forastero',\n",
    "                  'Forastero(Arriba, CCN)':'Hybrid',\n",
    "                  'Forastero, Trinitario':'Blend',\n",
    "                  'Matina':'Hybrid',\n",
    "                  'Nacional':'Forastero',\n",
    "                  'Nacional (Arriba)':'Forastero',\n",
    "                  'Trinitario':'Trinitario',\n",
    "                  'Trinitario (85% Criollo)':'Blend',\n",
    "                  'Trinitario (Amelonado)':'Trinitario',\n",
    "                  'Trinitario (Scavina)':'Trinitario',\n",
    "                  'Trinitario, Criollo':'Blend',\n",
    "                  'Trinitario, Forastero':'Blend',\n",
    "                  'Trinitario, Nacional':'Blend',\n",
    "                  'Trinitario, TCGA':'Trinitario',\n",
    "                  'blend':'Blend'}\n",
    "df['Bean Type Varieties'] = df['Bean Type'].map(dict_type)\n",
    "df['Bean Type Varieties'] = df[\"Bean Type Varieties\"].fillna(\"Trinitario\")\n",
    "df.drop(['Bean Type'],axis=1,inplace=True)\n"
   ]
  },
  {
   "cell_type": "code",
   "execution_count": 27,
   "metadata": {},
   "outputs": [],
   "source": [
    "#Replacing the bean origin with the median value\n",
    "df[\"Bean origin\"] = df[\"Bean origin\"].fillna(\"Venezuela\")"
   ]
  },
  {
   "cell_type": "code",
   "execution_count": 28,
   "metadata": {},
   "outputs": [],
   "source": [
    "#Fix columns in df_country_ratings to match mappings\n",
    "df['Company Location'] = df['Company Location'].replace(\"Wales\", \"U.K.\")\n",
    "df['Company Location'] = df['Company Location'].replace(\"Amsterdam\", \"Netherlands\")\n",
    "df['Company Location'] = df['Company Location'].replace(\"Scotland\", \"U.K.\")\n",
    "df['Company Location'] = df['Company Location'].replace(\"Domincan Republic\", \"Dominican Republic\")\n"
   ]
  },
  {
   "cell_type": "code",
   "execution_count": 29,
   "metadata": {},
   "outputs": [],
   "source": [
    "#Created a method to define rating in a more refined manner\n",
    "def ratings(rating):\n",
    "    if rating < 0.5: \n",
    "        return 0\n",
    "    elif rating < 1.5: \n",
    "        return 1 \n",
    "    elif rating < 2.5: \n",
    "        return 2\n",
    "    elif rating < 3.5: \n",
    "        return 3\n",
    "    elif rating < 4.5: \n",
    "        return 4 \n",
    "    elif rating < 5.5: \n",
    "        return 5\n",
    "df[\"Rating\"] = df[\"Rating\"].apply(lambda x: ratings(x))    "
   ]
  },
  {
   "cell_type": "code",
   "execution_count": 30,
   "metadata": {},
   "outputs": [],
   "source": [
    "#Checking the rating column\n",
    "df['Rating'] = df['Rating']"
   ]
  },
  {
   "cell_type": "markdown",
   "metadata": {},
   "source": [
    "#  Step 2 : Few analysis before data conversion using encoding as most of the categorical values will be converted into numerical values"
   ]
  },
  {
   "cell_type": "code",
   "execution_count": 31,
   "metadata": {},
   "outputs": [
    {
     "data": {
      "image/png": "[encoded data removed]",
      "text/plain": [
       "<Figure size 720x288 with 1 Axes>"
      ]
     },
     "metadata": {},
     "output_type": "display_data"
    }
   ],
   "source": [
    "#Now it is time to analyse the data with the help of visualizations to understand the data properly\n",
    "# Top 5 companies in terms of chocolate sale in this dataset\n",
    "d = df['Company'].value_counts().sort_values(ascending=False).head(5)\n",
    "d = pd.DataFrame(d)\n",
    "d = d.reset_index() # dataframe with top 5 companies\n",
    "\n",
    "# Plotting\n",
    "sns.set()\n",
    "plt.figure(figsize=(10,4))\n",
    "sns.barplot(x='index', y='Company', data=d)\n",
    "plt.xlabel(\"\\nChocolate Company\")\n",
    "plt.ylabel(\"Count of individual company\")\n",
    "plt.title(\"Top 5 Companies in chocolate market\\n\")\n",
    "plt.show()"
   ]
  },
  {
   "cell_type": "code",
   "execution_count": 32,
   "metadata": {},
   "outputs": [
    {
     "data": {
      "image/png": "[encoded data removed]",
      "text/plain": [
       "<Figure size 1440x432 with 1 Axes>"
      ]
     },
     "metadata": {},
     "output_type": "display_data"
    }
   ],
   "source": [
    "# Top 5 companies in terms of average ratings\n",
    "d2 = df.groupby('Company').aggregate({'Rating':'mean'})\n",
    "d2 = d2.sort_values('Rating', ascending=False).head(5)\n",
    "d2 = d2.reset_index()\n",
    "\n",
    "# Plotting\n",
    "sns.set()\n",
    "plt.figure(figsize=(20, 6))\n",
    "sns.barplot(x='Company', y='Rating', data=d2)\n",
    "plt.xlabel(\"\\nChocolate Company\")\n",
    "plt.ylabel(\"Average Rating\")\n",
    "plt.title(\"Top 5 Companies with Average Ratings \\n\")\n",
    "plt.show()"
   ]
  },
  {
   "cell_type": "code",
   "execution_count": 33,
   "metadata": {
    "scrolled": true
   },
   "outputs": [
    {
     "data": {
      "image/png": "[encoded data removed]",
      "text/plain": [
       "<Figure size 1080x288 with 1 Axes>"
      ]
     },
     "metadata": {},
     "output_type": "display_data"
    }
   ],
   "source": [
    "\n",
    "# Top 5 companies in terms of average Cocoa Percentage\n",
    "d2 = df.groupby('Company').aggregate({'Cocoa Percent':'mean'})\n",
    "d2 = d2.sort_values('Cocoa Percent', ascending=False).head(5)\n",
    "d2 = d2.reset_index()\n",
    "\n",
    "# Plotting\n",
    "sns.set()\n",
    "plt.figure(figsize=(15, 4))\n",
    "sns.barplot(x='Company', y='Cocoa Percent', data=d2)\n",
    "plt.xlabel(\"\\nChocolate Company\")\n",
    "plt.ylabel(\"Average Cocoa Percentage\")\n",
    "plt.title(\"Top 5 Companies in terms of Average Cocoa Percentage \\n\")\n",
    "plt.show()"
   ]
  },
  {
   "cell_type": "code",
   "execution_count": 34,
   "metadata": {},
   "outputs": [
    {
     "data": {
      "image/png": "[encoded data removed]",
      "text/plain": [
       "<Figure size 1080x288 with 1 Axes>"
      ]
     },
     "metadata": {},
     "output_type": "display_data"
    }
   ],
   "source": [
    "# Average rating over the years of Top 5 Producer Companies\n",
    "\n",
    "top5_dict = {}\n",
    "for element in list(d['index']):\n",
    "    temp = df[df['Company']==element]\n",
    "    top5_dict[element]=temp\n",
    "\n",
    "top5_list = list(top5_dict.keys())\n",
    "\n",
    "### Rating patterns over the years\n",
    "d7 = df.groupby(['Review Date', 'Company']).aggregate({'Rating':'mean'})\n",
    "d7 = d7.reset_index()\n",
    "d7 = d7[d7['Company'].isin(top5_list)]\n",
    "\n",
    "# Plotting\n",
    "sns.set()\n",
    "plt.figure(figsize=(15, 4))\n",
    "ax = sns.lineplot(x='Review Date', y='Rating', hue=\"Company\", data=d7, palette=\"husl\")\n",
    "ax.set(xticks=df['Review Date'].values)\n",
    "plt.xlabel(\"\\nDate of Review\")\n",
    "plt.ylabel(\"Average Rating\")\n",
    "plt.title(\"Average Rating over the years of Top 5 Producer Companies\\n\")\n",
    "plt.show()"
   ]
  },
  {
   "cell_type": "code",
   "execution_count": 35,
   "metadata": {},
   "outputs": [],
   "source": [
    "# Preparing Soma for analysis\n",
    "soma = df[df['Company']=='Soma']"
   ]
  },
  {
   "cell_type": "code",
   "execution_count": 36,
   "metadata": {},
   "outputs": [
    {
     "data": {
      "image/png": "[encoded data removed]",
      "text/plain": [
       "<Figure size 720x432 with 1 Axes>"
      ]
     },
     "metadata": {},
     "output_type": "display_data"
    }
   ],
   "source": [
    "### Source of beans for soma\n",
    "dSoma = soma['Bean origin'].value_counts().sort_values(ascending=False).head(5)\n",
    "dSoma = pd.DataFrame(dSoma)\n",
    "dSoma = dSoma.reset_index()\n",
    "# Plotting\n",
    "sns.set()\n",
    "plt.figure(figsize=(10, 6))\n",
    "sns.barplot(x='index', y='Bean origin', data=dSoma)\n",
    "plt.xlabel(\"\\nBroad Bean Origin\")\n",
    "plt.ylabel(\"Number of beans\")\n",
    "plt.title(\"Soma bean source \\n\")\n",
    "plt.show()"
   ]
  },
  {
   "cell_type": "code",
   "execution_count": 37,
   "metadata": {},
   "outputs": [
    {
     "data": {
      "image/png": "[encoded data removed]",
      "text/plain": [
       "<Figure size 432x288 with 1 Axes>"
      ]
     },
     "metadata": {},
     "output_type": "display_data"
    }
   ],
   "source": [
    "### Ratings of Soma\n",
    "\n",
    "sns.kdeplot(soma['Rating'], legend=False, color=\"brown\", shade=True)\n",
    "plt.xlabel(\"\\nRating of the Chocolate Bar\")\n",
    "plt.ylabel(\"Distribution of Chocolate\")\n",
    "plt.title(\"Ratings of Chocolate produced by Soma\\n\")\n",
    "plt.show()"
   ]
  },
  {
   "cell_type": "code",
   "execution_count": 38,
   "metadata": {},
   "outputs": [
    {
     "data": {
      "image/png": "[encoded data removed]",
      "text/plain": [
       "<Figure size 720x432 with 1 Axes>"
      ]
     },
     "metadata": {},
     "output_type": "display_data"
    }
   ],
   "source": [
    "### Soma's performance over the years\n",
    "d4 = soma.groupby('Review Date').aggregate({'Rating':'mean'})\n",
    "d4 = d4.reset_index()\n",
    "# Plotting\n",
    "plt.figure(figsize=(10, 6))\n",
    "sns.lineplot(x='Review Date', y='Rating', data=d4)\n",
    "plt.xlabel(\"\\nDate of Review\")\n",
    "plt.ylabel(\"Average Rating\")\n",
    "plt.title(\"Soma's Average Rating over the years\\n\")\n",
    "plt.show()"
   ]
  },
  {
   "cell_type": "code",
   "execution_count": 39,
   "metadata": {},
   "outputs": [
    {
     "name": "stdout",
     "output_type": "stream",
     "text": [
      "Top Chocolate Producing Countries in the World\n",
      "\n",
      "U.S.A.    632\n",
      "France    124\n",
      "Canada    108\n",
      "U.K.       88\n",
      "Italy      59\n",
      "Name: Company Location, dtype: int64\n"
     ]
    },
    {
     "data": {
      "image/png": "[encoded data removed]",
      "text/plain": [
       "<Figure size 720x360 with 1 Axes>"
      ]
     },
     "metadata": {},
     "output_type": "display_data"
    }
   ],
   "source": [
    "\n",
    "# Countries\n",
    "\n",
    "print ('Top Chocolate Producing Countries in the World\\n')\n",
    "country=list(df['Company Location'].value_counts().head(10).index)\n",
    "choco_bars=list(df['Company Location'].value_counts().head(10))\n",
    "prod_ctry=dict(zip(country,choco_bars))\n",
    "print(df['Company Location'].value_counts().head())\n",
    "\n",
    "plt.figure(figsize=(10,5))\n",
    "plt.hlines(y=country,xmin=0,xmax=choco_bars,color='skyblue')\n",
    "plt.plot(choco_bars,country,\"o\")\n",
    "plt.xlabel('Country')\n",
    "plt.ylabel('Total Count')\n",
    "plt.title(\"Top Chocolate Producing Countries in the World\")\n",
    "plt.show()"
   ]
  },
  {
   "cell_type": "code",
   "execution_count": 40,
   "metadata": {},
   "outputs": [
    {
     "data": {
      "image/png": "[encoded data removed]",
      "text/plain": [
       "<Figure size 432x288 with 1 Axes>"
      ]
     },
     "metadata": {},
     "output_type": "display_data"
    },
    {
     "name": "stdout",
     "output_type": "stream",
     "text": [
      "{'U.S.A.': 218, 'France': 60, 'Canada': 54, 'U.K.': 29, 'Italy': 28, 'Ecuador': 13, 'Australia': 24, 'Belgium': 16, 'Switzerland': 12, 'Germany': 11}\n"
     ]
    }
   ],
   "source": [
    "#reusing code written before\n",
    "countries=country\n",
    "best_choc={} # empty dictionary\n",
    "for j in countries:\n",
    "    c=0\n",
    "    b=df[df['Company Location']==j]\n",
    "    br=b[b['Rating']>=4] # rating more than 4\n",
    "    for i in br['Rating']:\n",
    "        c+=1\n",
    "        best_choc[j]=c    \n",
    "li=best_choc.keys()\n",
    "# The lollipop plot\n",
    "plt.hlines(y=li,xmin=0,xmax=best_choc.values(),color='darkgreen')\n",
    "plt.plot(best_choc.values(),li,\"o\")\n",
    "plt.xlabel('Country')\n",
    "plt.ylabel('Count')\n",
    "plt.title(\"Top Chocolate Producing Countries in the World with a ratings above 4.0\")\n",
    "plt.show()\n",
    "print(best_choc)"
   ]
  },
  {
   "cell_type": "markdown",
   "metadata": {},
   "source": [
    "# Performed hot encoding for categorical data"
   ]
  },
  {
   "cell_type": "code",
   "execution_count": 41,
   "metadata": {},
   "outputs": [],
   "source": [
    "#Created a method for converting categorical values into numerical using dummies\n",
    "categorical_features = ['Company','Company Location','Bean origin','Bean Type Varieties']\n",
    "def onehot_encode(data, columns):\n",
    "    for column in columns:\n",
    "        dummies = pd.get_dummies(data[column])\n",
    "        data = pd.concat([data, dummies], axis=1)\n",
    "        data.drop(column, axis=1, inplace=True)\n",
    "    return data\n",
    "df_clean = df\n",
    "df = onehot_encode(df, categorical_features)"
   ]
  },
  {
   "cell_type": "code",
   "execution_count": 42,
   "metadata": {
    "scrolled": true
   },
   "outputs": [
    {
     "data": {
      "text/html": [
       "<div>\n",
       "<style scoped>\n",
       "    .dataframe tbody tr th:only-of-type {\n",
       "        vertical-align: middle;\n",
       "    }\n",
       "\n",
       "    .dataframe tbody tr th {\n",
       "        vertical-align: top;\n",
       "    }\n",
       "\n",
       "    .dataframe thead th {\n",
       "        text-align: right;\n",
       "    }\n",
       "</style>\n",
       "<table border=\"1\" class=\"dataframe\">\n",
       "  <thead>\n",
       "    <tr style=\"text-align: right;\">\n",
       "      <th></th>\n",
       "      <th>Review Date</th>\n",
       "      <th>Cocoa Percent</th>\n",
       "      <th>Rating</th>\n",
       "      <th>A Morin</th>\n",
       "      <th>AMMA</th>\n",
       "      <th>Acalli</th>\n",
       "      <th>Adi</th>\n",
       "      <th>Ah Cacao</th>\n",
       "      <th>Alain Ducasse</th>\n",
       "      <th>Alexandre</th>\n",
       "      <th>...</th>\n",
       "      <th>Venezuela, Trinidad, Ecuador</th>\n",
       "      <th>Venezuela, Trinidad, Madagascar</th>\n",
       "      <th>Vietnam</th>\n",
       "      <th>West Africa</th>\n",
       "      <th>Blend</th>\n",
       "      <th>Criollo</th>\n",
       "      <th>Forastero</th>\n",
       "      <th>Hybrid</th>\n",
       "      <th>Trinitario</th>\n",
       "      <th>hybrid</th>\n",
       "    </tr>\n",
       "  </thead>\n",
       "  <tbody>\n",
       "    <tr>\n",
       "      <th>0</th>\n",
       "      <td>2007</td>\n",
       "      <td>0.64</td>\n",
       "      <td>4</td>\n",
       "      <td>0</td>\n",
       "      <td>0</td>\n",
       "      <td>0</td>\n",
       "      <td>0</td>\n",
       "      <td>0</td>\n",
       "      <td>0</td>\n",
       "      <td>0</td>\n",
       "      <td>...</td>\n",
       "      <td>0</td>\n",
       "      <td>0</td>\n",
       "      <td>0</td>\n",
       "      <td>0</td>\n",
       "      <td>1</td>\n",
       "      <td>0</td>\n",
       "      <td>0</td>\n",
       "      <td>0</td>\n",
       "      <td>0</td>\n",
       "      <td>0</td>\n",
       "    </tr>\n",
       "    <tr>\n",
       "      <th>1</th>\n",
       "      <td>2014</td>\n",
       "      <td>0.80</td>\n",
       "      <td>3</td>\n",
       "      <td>0</td>\n",
       "      <td>0</td>\n",
       "      <td>0</td>\n",
       "      <td>0</td>\n",
       "      <td>0</td>\n",
       "      <td>0</td>\n",
       "      <td>0</td>\n",
       "      <td>...</td>\n",
       "      <td>0</td>\n",
       "      <td>0</td>\n",
       "      <td>0</td>\n",
       "      <td>0</td>\n",
       "      <td>1</td>\n",
       "      <td>0</td>\n",
       "      <td>0</td>\n",
       "      <td>0</td>\n",
       "      <td>0</td>\n",
       "      <td>0</td>\n",
       "    </tr>\n",
       "    <tr>\n",
       "      <th>2</th>\n",
       "      <td>2011</td>\n",
       "      <td>0.70</td>\n",
       "      <td>4</td>\n",
       "      <td>0</td>\n",
       "      <td>0</td>\n",
       "      <td>0</td>\n",
       "      <td>0</td>\n",
       "      <td>0</td>\n",
       "      <td>0</td>\n",
       "      <td>0</td>\n",
       "      <td>...</td>\n",
       "      <td>0</td>\n",
       "      <td>0</td>\n",
       "      <td>0</td>\n",
       "      <td>0</td>\n",
       "      <td>0</td>\n",
       "      <td>0</td>\n",
       "      <td>0</td>\n",
       "      <td>1</td>\n",
       "      <td>0</td>\n",
       "      <td>0</td>\n",
       "    </tr>\n",
       "    <tr>\n",
       "      <th>3</th>\n",
       "      <td>2015</td>\n",
       "      <td>0.70</td>\n",
       "      <td>4</td>\n",
       "      <td>0</td>\n",
       "      <td>0</td>\n",
       "      <td>0</td>\n",
       "      <td>0</td>\n",
       "      <td>0</td>\n",
       "      <td>0</td>\n",
       "      <td>0</td>\n",
       "      <td>...</td>\n",
       "      <td>0</td>\n",
       "      <td>0</td>\n",
       "      <td>0</td>\n",
       "      <td>0</td>\n",
       "      <td>0</td>\n",
       "      <td>0</td>\n",
       "      <td>0</td>\n",
       "      <td>0</td>\n",
       "      <td>1</td>\n",
       "      <td>0</td>\n",
       "    </tr>\n",
       "    <tr>\n",
       "      <th>4</th>\n",
       "      <td>2016</td>\n",
       "      <td>0.65</td>\n",
       "      <td>4</td>\n",
       "      <td>0</td>\n",
       "      <td>0</td>\n",
       "      <td>0</td>\n",
       "      <td>0</td>\n",
       "      <td>0</td>\n",
       "      <td>0</td>\n",
       "      <td>0</td>\n",
       "      <td>...</td>\n",
       "      <td>0</td>\n",
       "      <td>0</td>\n",
       "      <td>0</td>\n",
       "      <td>0</td>\n",
       "      <td>0</td>\n",
       "      <td>0</td>\n",
       "      <td>0</td>\n",
       "      <td>0</td>\n",
       "      <td>0</td>\n",
       "      <td>1</td>\n",
       "    </tr>\n",
       "    <tr>\n",
       "      <th>...</th>\n",
       "      <td>...</td>\n",
       "      <td>...</td>\n",
       "      <td>...</td>\n",
       "      <td>...</td>\n",
       "      <td>...</td>\n",
       "      <td>...</td>\n",
       "      <td>...</td>\n",
       "      <td>...</td>\n",
       "      <td>...</td>\n",
       "      <td>...</td>\n",
       "      <td>...</td>\n",
       "      <td>...</td>\n",
       "      <td>...</td>\n",
       "      <td>...</td>\n",
       "      <td>...</td>\n",
       "      <td>...</td>\n",
       "      <td>...</td>\n",
       "      <td>...</td>\n",
       "      <td>...</td>\n",
       "      <td>...</td>\n",
       "      <td>...</td>\n",
       "    </tr>\n",
       "    <tr>\n",
       "      <th>1495</th>\n",
       "      <td>2011</td>\n",
       "      <td>0.70</td>\n",
       "      <td>3</td>\n",
       "      <td>0</td>\n",
       "      <td>0</td>\n",
       "      <td>0</td>\n",
       "      <td>0</td>\n",
       "      <td>0</td>\n",
       "      <td>0</td>\n",
       "      <td>0</td>\n",
       "      <td>...</td>\n",
       "      <td>0</td>\n",
       "      <td>0</td>\n",
       "      <td>0</td>\n",
       "      <td>0</td>\n",
       "      <td>0</td>\n",
       "      <td>0</td>\n",
       "      <td>0</td>\n",
       "      <td>0</td>\n",
       "      <td>1</td>\n",
       "      <td>0</td>\n",
       "    </tr>\n",
       "    <tr>\n",
       "      <th>1496</th>\n",
       "      <td>2012</td>\n",
       "      <td>0.58</td>\n",
       "      <td>4</td>\n",
       "      <td>0</td>\n",
       "      <td>0</td>\n",
       "      <td>0</td>\n",
       "      <td>0</td>\n",
       "      <td>0</td>\n",
       "      <td>0</td>\n",
       "      <td>0</td>\n",
       "      <td>...</td>\n",
       "      <td>0</td>\n",
       "      <td>0</td>\n",
       "      <td>0</td>\n",
       "      <td>0</td>\n",
       "      <td>0</td>\n",
       "      <td>0</td>\n",
       "      <td>0</td>\n",
       "      <td>0</td>\n",
       "      <td>1</td>\n",
       "      <td>0</td>\n",
       "    </tr>\n",
       "    <tr>\n",
       "      <th>1497</th>\n",
       "      <td>2009</td>\n",
       "      <td>0.64</td>\n",
       "      <td>3</td>\n",
       "      <td>0</td>\n",
       "      <td>0</td>\n",
       "      <td>0</td>\n",
       "      <td>0</td>\n",
       "      <td>0</td>\n",
       "      <td>0</td>\n",
       "      <td>0</td>\n",
       "      <td>...</td>\n",
       "      <td>1</td>\n",
       "      <td>0</td>\n",
       "      <td>0</td>\n",
       "      <td>0</td>\n",
       "      <td>0</td>\n",
       "      <td>0</td>\n",
       "      <td>0</td>\n",
       "      <td>0</td>\n",
       "      <td>1</td>\n",
       "      <td>0</td>\n",
       "    </tr>\n",
       "    <tr>\n",
       "      <th>1498</th>\n",
       "      <td>2010</td>\n",
       "      <td>0.72</td>\n",
       "      <td>4</td>\n",
       "      <td>0</td>\n",
       "      <td>0</td>\n",
       "      <td>0</td>\n",
       "      <td>0</td>\n",
       "      <td>0</td>\n",
       "      <td>0</td>\n",
       "      <td>0</td>\n",
       "      <td>...</td>\n",
       "      <td>0</td>\n",
       "      <td>0</td>\n",
       "      <td>0</td>\n",
       "      <td>0</td>\n",
       "      <td>0</td>\n",
       "      <td>0</td>\n",
       "      <td>0</td>\n",
       "      <td>0</td>\n",
       "      <td>1</td>\n",
       "      <td>0</td>\n",
       "    </tr>\n",
       "    <tr>\n",
       "      <th>1499</th>\n",
       "      <td>2015</td>\n",
       "      <td>0.70</td>\n",
       "      <td>3</td>\n",
       "      <td>0</td>\n",
       "      <td>0</td>\n",
       "      <td>0</td>\n",
       "      <td>0</td>\n",
       "      <td>0</td>\n",
       "      <td>0</td>\n",
       "      <td>0</td>\n",
       "      <td>...</td>\n",
       "      <td>0</td>\n",
       "      <td>0</td>\n",
       "      <td>0</td>\n",
       "      <td>0</td>\n",
       "      <td>0</td>\n",
       "      <td>0</td>\n",
       "      <td>0</td>\n",
       "      <td>0</td>\n",
       "      <td>1</td>\n",
       "      <td>0</td>\n",
       "    </tr>\n",
       "  </tbody>\n",
       "</table>\n",
       "<p>1500 rows × 502 columns</p>\n",
       "</div>"
      ],
      "text/plain": [
       "      Review Date  Cocoa Percent  Rating  A Morin  AMMA  Acalli  Adi  \\\n",
       "0            2007           0.64       4        0     0       0    0   \n",
       "1            2014           0.80       3        0     0       0    0   \n",
       "2            2011           0.70       4        0     0       0    0   \n",
       "3            2015           0.70       4        0     0       0    0   \n",
       "4            2016           0.65       4        0     0       0    0   \n",
       "...           ...            ...     ...      ...   ...     ...  ...   \n",
       "1495         2011           0.70       3        0     0       0    0   \n",
       "1496         2012           0.58       4        0     0       0    0   \n",
       "1497         2009           0.64       3        0     0       0    0   \n",
       "1498         2010           0.72       4        0     0       0    0   \n",
       "1499         2015           0.70       3        0     0       0    0   \n",
       "\n",
       "      Ah Cacao  Alain Ducasse  Alexandre  ...  Venezuela, Trinidad, Ecuador  \\\n",
       "0            0              0          0  ...                             0   \n",
       "1            0              0          0  ...                             0   \n",
       "2            0              0          0  ...                             0   \n",
       "3            0              0          0  ...                             0   \n",
       "4            0              0          0  ...                             0   \n",
       "...        ...            ...        ...  ...                           ...   \n",
       "1495         0              0          0  ...                             0   \n",
       "1496         0              0          0  ...                             0   \n",
       "1497         0              0          0  ...                             1   \n",
       "1498         0              0          0  ...                             0   \n",
       "1499         0              0          0  ...                             0   \n",
       "\n",
       "      Venezuela, Trinidad, Madagascar  Vietnam  West Africa  Blend  Criollo  \\\n",
       "0                                   0        0            0      1        0   \n",
       "1                                   0        0            0      1        0   \n",
       "2                                   0        0            0      0        0   \n",
       "3                                   0        0            0      0        0   \n",
       "4                                   0        0            0      0        0   \n",
       "...                               ...      ...          ...    ...      ...   \n",
       "1495                                0        0            0      0        0   \n",
       "1496                                0        0            0      0        0   \n",
       "1497                                0        0            0      0        0   \n",
       "1498                                0        0            0      0        0   \n",
       "1499                                0        0            0      0        0   \n",
       "\n",
       "      Forastero  Hybrid  Trinitario  hybrid  \n",
       "0             0       0           0       0  \n",
       "1             0       0           0       0  \n",
       "2             0       1           0       0  \n",
       "3             0       0           1       0  \n",
       "4             0       0           0       1  \n",
       "...         ...     ...         ...     ...  \n",
       "1495          0       0           1       0  \n",
       "1496          0       0           1       0  \n",
       "1497          0       0           1       0  \n",
       "1498          0       0           1       0  \n",
       "1499          0       0           1       0  \n",
       "\n",
       "[1500 rows x 502 columns]"
      ]
     },
     "execution_count": 42,
     "metadata": {},
     "output_type": "execute_result"
    }
   ],
   "source": [
    "df"
   ]
  },
  {
   "cell_type": "markdown",
   "metadata": {},
   "source": [
    "# Step 3 - Selected ANN, Random Forest and KNN as three algorithms for comparision"
   ]
  },
  {
   "cell_type": "markdown",
   "metadata": {},
   "source": [
    "# Step 4 - Data partitioning"
   ]
  },
  {
   "cell_type": "code",
   "execution_count": 43,
   "metadata": {},
   "outputs": [],
   "source": [
    "#Defined X as input columns and y as output column\n",
    "X = df.drop('Rating', axis = 1)\n",
    "y = df['Rating']\n",
    "#splitting of data into training and test data\n",
    "from sklearn.model_selection import train_test_split\n",
    "x, x_test, y, y_test = train_test_split(X,y,test_size=0.2,train_size=0.8, random_state=42)\n",
    "#splitting of data into training and valiadtion data\n",
    "x_train, x_cv, y_train, y_cv = train_test_split(x,y,test_size = 0.25,train_size =0.75, random_state=4)"
   ]
  },
  {
   "cell_type": "markdown",
   "metadata": {},
   "source": [
    "# Step 5 - Model Development for Artificial Neural Network"
   ]
  },
  {
   "cell_type": "code",
   "execution_count": 44,
   "metadata": {},
   "outputs": [
    {
     "ename": "NameError",
     "evalue": "name 'keras' is not defined",
     "output_type": "error",
     "traceback": [
      "\u001b[1;31m---------------------------------------------------------------------------\u001b[0m",
      "\u001b[1;31mNameError\u001b[0m                                 Traceback (most recent call last)",
      "\u001b[1;32m<ipython-input-44-bdf781debcc1>\u001b[0m in \u001b[0;36m<module>\u001b[1;34m\u001b[0m\n\u001b[0;32m     26\u001b[0m                   metrics=['mae', 'mse','acc'])\n\u001b[0;32m     27\u001b[0m             \u001b[1;32mreturn\u001b[0m \u001b[0mmodel\u001b[0m\u001b[1;33m\u001b[0m\u001b[1;33m\u001b[0m\u001b[0m\n\u001b[1;32m---> 28\u001b[1;33m         \u001b[0mmodel\u001b[0m \u001b[1;33m=\u001b[0m \u001b[0mbuild_model\u001b[0m\u001b[1;33m(\u001b[0m\u001b[1;33m)\u001b[0m\u001b[1;33m\u001b[0m\u001b[1;33m\u001b[0m\u001b[0m\n\u001b[0m\u001b[0;32m     29\u001b[0m \u001b[1;33m\u001b[0m\u001b[0m\n\u001b[0;32m     30\u001b[0m         \u001b[0mEPOCHS\u001b[0m \u001b[1;33m=\u001b[0m \u001b[1;36m1000\u001b[0m\u001b[1;33m\u001b[0m\u001b[1;33m\u001b[0m\u001b[0m\n",
      "\u001b[1;32m<ipython-input-44-bdf781debcc1>\u001b[0m in \u001b[0;36mbuild_model\u001b[1;34m()\u001b[0m\n\u001b[0;32m     13\u001b[0m     \u001b[1;32mfor\u001b[0m \u001b[0mtrain\u001b[0m\u001b[1;33m,\u001b[0m \u001b[0mtest\u001b[0m \u001b[1;32min\u001b[0m \u001b[0mkfold\u001b[0m\u001b[1;33m.\u001b[0m\u001b[0msplit\u001b[0m\u001b[1;33m(\u001b[0m\u001b[0minputs\u001b[0m\u001b[1;33m,\u001b[0m \u001b[0mtargets\u001b[0m\u001b[1;33m)\u001b[0m\u001b[1;33m:\u001b[0m\u001b[1;33m\u001b[0m\u001b[1;33m\u001b[0m\u001b[0m\n\u001b[0;32m     14\u001b[0m         \u001b[1;32mdef\u001b[0m \u001b[0mbuild_model\u001b[0m\u001b[1;33m(\u001b[0m\u001b[1;33m)\u001b[0m\u001b[1;33m:\u001b[0m\u001b[1;33m\u001b[0m\u001b[1;33m\u001b[0m\u001b[0m\n\u001b[1;32m---> 15\u001b[1;33m             model = keras.Sequential([\n\u001b[0m\u001b[0;32m     16\u001b[0m             \u001b[0mlayers\u001b[0m\u001b[1;33m.\u001b[0m\u001b[0mDense\u001b[0m\u001b[1;33m(\u001b[0m\u001b[1;36m64\u001b[0m\u001b[1;33m,\u001b[0m \u001b[0mactivation\u001b[0m\u001b[1;33m=\u001b[0m\u001b[1;34m'relu'\u001b[0m\u001b[1;33m,\u001b[0m \u001b[0minput_dim\u001b[0m\u001b[1;33m=\u001b[0m\u001b[1;36m501\u001b[0m\u001b[1;33m)\u001b[0m\u001b[1;33m,\u001b[0m\u001b[1;33m\u001b[0m\u001b[1;33m\u001b[0m\u001b[0m\n\u001b[0;32m     17\u001b[0m             \u001b[0mlayers\u001b[0m\u001b[1;33m.\u001b[0m\u001b[0mDense\u001b[0m\u001b[1;33m(\u001b[0m\u001b[1;36m64\u001b[0m\u001b[1;33m,\u001b[0m \u001b[0mactivation\u001b[0m\u001b[1;33m=\u001b[0m\u001b[1;34m'relu'\u001b[0m\u001b[1;33m)\u001b[0m\u001b[1;33m,\u001b[0m\u001b[1;33m\u001b[0m\u001b[1;33m\u001b[0m\u001b[0m\n",
      "\u001b[1;31mNameError\u001b[0m: name 'keras' is not defined"
     ]
    }
   ],
   "source": [
    "# Merge inputs and targets\n",
    "inputs = np.concatenate((x_train, x_cv), axis=0)\n",
    "targets = np.concatenate((y_train, y_cv), axis=0)\n",
    "fold_no = 3\n",
    "# Define the K-fold Cross Validator\n",
    "kfold = KFold(n_splits=fold_no, shuffle=True)\n",
    "mse_per_fold=[]\n",
    "loss_per_fold=[]\n",
    "acc_per_fold=[]\n",
    "# K-fold Cross Validation model evaluation applied a loop for \n",
    "while fold_no < 6:\n",
    "\n",
    "    for train, test in kfold.split(inputs, targets):\n",
    "        def build_model():\n",
    "            model = keras.Sequential([\n",
    "            layers.Dense(64, activation='relu', input_dim=501),\n",
    "            layers.Dense(64, activation='relu'),\n",
    "            layers.Dense(125, activation='relu'),\n",
    "            layers.Dense(1)\n",
    "            ])\n",
    "\n",
    "            optimizer = tf.keras.optimizers.RMSprop(0.001)\n",
    "\n",
    "            model.compile(loss='mse',\n",
    "                  optimizer=optimizer,\n",
    "                  metrics=['mae', 'mse','acc'])\n",
    "            return model\n",
    "        model = build_model()\n",
    "\n",
    "        EPOCHS = 1000\n",
    "    model = build_model()\n",
    "\n",
    "# The patience parameter is the amount of epochs to check for improvement\n",
    "    early_stop = keras.callbacks.EarlyStopping(monitor='val_loss', min_delta=0, patience=30, verbose=0, mode='min')\n",
    "    \n",
    "      # Generate a print\n",
    "    print('------------------------------------------------------------------------')\n",
    "    print(f'Training for fold {fold_no} ...')\n",
    "\n",
    "\n",
    "    history = model.fit(inputs[test], targets[test], \n",
    "                    epochs=EPOCHS, validation_split = 0.2, verbose=1, \n",
    "                    callbacks=[early_stop])\n",
    "          # Generate generalization metrics\n",
    "    scores = model.evaluate(inputs[test], targets[test], verbose=0)\n",
    "    print('------------------------------------------------------------------------')\n",
    "    print(f'Score for fold {fold_no}: {model.metrics_names[0]} of {scores[0]}; {model.metrics_names[1]} of {scores[1]}; {model.metrics_names[2]} of {scores[2]}')\n",
    "    acc_per_fold.append(scores[2])\n",
    "    loss_per_fold.append(scores[0])\n",
    "    mse_per_fold.append(scores[1])\n",
    "\n",
    "  # Increase fold number\n",
    "    fold_no = fold_no + 1\n",
    "print('------------------------------------------------------------------------')\n",
    "print(\"Average Accuracy for all the folds\" +\" - \"+ str(np.mean(acc_per_fold)))\n",
    "print('------------------------------------------------------------------------')\n",
    "print(\"Average loss for all the folds\"  +\" - \"+ str(np.mean(loss_per_fold)))\n",
    "print('------------------------------------------------------------------------')\n",
    "print(\"Average mse for all the folds\"  +\" - \"+ str(np.mean(mse_per_fold)))"
   ]
  },
  {
   "cell_type": "code",
   "execution_count": null,
   "metadata": {},
   "outputs": [],
   "source": [
    "import matplotlib.pyplot as plt\n",
    "\n",
    "plt.plot(history.history['mse'])\n",
    "plt.plot(history.history['val_mse'])\n",
    "plt.legend(['Train Data', 'Validation Data'], loc='upper right')\n",
    "plt.title(\"Plot of Model loss for validatiton and training data\")\n",
    "plt.xlabel('Number of epochs')\n",
    "plt.ylabel('Loss')"
   ]
  },
  {
   "cell_type": "markdown",
   "metadata": {},
   "source": [
    "# Model Development for KNN"
   ]
  },
  {
   "cell_type": "code",
   "execution_count": 45,
   "metadata": {},
   "outputs": [
    {
     "name": "stdout",
     "output_type": "stream",
     "text": [
      "0.5366666666666666\n"
     ]
    }
   ],
   "source": [
    "\n",
    "#Create a Kneighbors classifer, use training data to fit model\n",
    "\n",
    "knn = KNeighborsClassifier()\n",
    "knn_trained = knn.fit(x_train, y_train)\n",
    "y_test_pred = knn_trained.predict(x_test)\n",
    "\n",
    "#print accuracy\n",
    "acc = accuracy_score(y_test, y_test_pred)\n",
    "print(acc)"
   ]
  },
  {
   "cell_type": "code",
   "execution_count": 46,
   "metadata": {},
   "outputs": [
    {
     "name": "stderr",
     "output_type": "stream",
     "text": [
      "C:\\Users\\prati\\anaconda3\\lib\\site-packages\\sklearn\\model_selection\\_split.py:670: UserWarning: The least populated class in y has only 3 members, which is less than n_splits=5.\n",
      "  warnings.warn((\"The least populated class in y has only %d\"\n"
     ]
    },
    {
     "name": "stdout",
     "output_type": "stream",
     "text": [
      "[0.6        0.55       0.56666667 0.61666667 0.58333333]\n"
     ]
    },
    {
     "name": "stderr",
     "output_type": "stream",
     "text": [
      "C:\\Users\\prati\\anaconda3\\lib\\site-packages\\sklearn\\model_selection\\_split.py:670: UserWarning: The least populated class in y has only 3 members, which is less than n_splits=5.\n",
      "  warnings.warn((\"The least populated class in y has only %d\"\n",
      "C:\\Users\\prati\\anaconda3\\lib\\site-packages\\sklearn\\model_selection\\_split.py:670: UserWarning: The least populated class in y has only 3 members, which is less than n_splits=5.\n",
      "  warnings.warn((\"The least populated class in y has only %d\"\n"
     ]
    },
    {
     "name": "stdout",
     "output_type": "stream",
     "text": [
      "[0.65       0.53333333 0.6        0.61666667 0.56666667]\n",
      "[0.61666667 0.55       0.63333333 0.6        0.61666667]\n"
     ]
    },
    {
     "name": "stderr",
     "output_type": "stream",
     "text": [
      "C:\\Users\\prati\\anaconda3\\lib\\site-packages\\sklearn\\model_selection\\_split.py:670: UserWarning: The least populated class in y has only 3 members, which is less than n_splits=5.\n",
      "  warnings.warn((\"The least populated class in y has only %d\"\n"
     ]
    },
    {
     "name": "stdout",
     "output_type": "stream",
     "text": [
      "[0.6        0.5        0.63333333 0.58333333 0.58333333]\n"
     ]
    },
    {
     "name": "stderr",
     "output_type": "stream",
     "text": [
      "C:\\Users\\prati\\anaconda3\\lib\\site-packages\\sklearn\\model_selection\\_split.py:670: UserWarning: The least populated class in y has only 3 members, which is less than n_splits=5.\n",
      "  warnings.warn((\"The least populated class in y has only %d\"\n"
     ]
    },
    {
     "name": "stdout",
     "output_type": "stream",
     "text": [
      "[0.56666667 0.51666667 0.63333333 0.55       0.6       ]\n",
      "cv_scores: [0.5833333333333333, 0.5933333333333334, 0.6033333333333333, 0.5800000000000001, 0.5733333333333334]\n",
      "n_best: 8\n"
     ]
    }
   ],
   "source": [
    "#run 3 iterations of CV = 3 to 5\n",
    "#find most optimal parameter n and run between values 6-10\n",
    "#best iteration was when CV=4, n=9 for all cross folds\n",
    "\n",
    "n=[6,7,8,9,10]\n",
    "\n",
    "\n",
    "cv5_scores = []\n",
    "#find best_n value when running through cross_val_score 6-10 when num-folds = 5\n",
    "for best_n in n:\n",
    "    knn = KNeighborsClassifier(n_neighbors=best_n)\n",
    "    scores = cross_val_score(knn, x_cv, y_cv, cv=5, scoring='accuracy')\n",
    "    cv5_scores.append(scores.mean())\n",
    "    print (scores)\n",
    "\n",
    "n_best = n[np.argmax(cv5_scores)]\n",
    "print('cv_scores:', cv5_scores)\n",
    "print('n_best:', n_best)"
   ]
  },
  {
   "cell_type": "code",
   "execution_count": 47,
   "metadata": {},
   "outputs": [
    {
     "name": "stderr",
     "output_type": "stream",
     "text": [
      "C:\\Users\\prati\\anaconda3\\lib\\site-packages\\sklearn\\model_selection\\_split.py:670: UserWarning: The least populated class in y has only 3 members, which is less than n_splits=4.\n",
      "  warnings.warn((\"The least populated class in y has only %d\"\n"
     ]
    },
    {
     "name": "stdout",
     "output_type": "stream",
     "text": [
      "[0.61333333 0.58666667 0.6        0.6       ]\n"
     ]
    },
    {
     "name": "stderr",
     "output_type": "stream",
     "text": [
      "C:\\Users\\prati\\anaconda3\\lib\\site-packages\\sklearn\\model_selection\\_split.py:670: UserWarning: The least populated class in y has only 3 members, which is less than n_splits=4.\n",
      "  warnings.warn((\"The least populated class in y has only %d\"\n"
     ]
    },
    {
     "name": "stdout",
     "output_type": "stream",
     "text": [
      "[0.65333333 0.53333333 0.6        0.57333333]\n"
     ]
    },
    {
     "name": "stderr",
     "output_type": "stream",
     "text": [
      "C:\\Users\\prati\\anaconda3\\lib\\site-packages\\sklearn\\model_selection\\_split.py:670: UserWarning: The least populated class in y has only 3 members, which is less than n_splits=4.\n",
      "  warnings.warn((\"The least populated class in y has only %d\"\n"
     ]
    },
    {
     "name": "stdout",
     "output_type": "stream",
     "text": [
      "[0.64       0.56       0.6        0.54666667]\n"
     ]
    },
    {
     "name": "stderr",
     "output_type": "stream",
     "text": [
      "C:\\Users\\prati\\anaconda3\\lib\\site-packages\\sklearn\\model_selection\\_split.py:670: UserWarning: The least populated class in y has only 3 members, which is less than n_splits=4.\n",
      "  warnings.warn((\"The least populated class in y has only %d\"\n"
     ]
    },
    {
     "name": "stdout",
     "output_type": "stream",
     "text": [
      "[0.6        0.54666667 0.61333333 0.58666667]\n"
     ]
    },
    {
     "name": "stderr",
     "output_type": "stream",
     "text": [
      "C:\\Users\\prati\\anaconda3\\lib\\site-packages\\sklearn\\model_selection\\_split.py:670: UserWarning: The least populated class in y has only 3 members, which is less than n_splits=4.\n",
      "  warnings.warn((\"The least populated class in y has only %d\"\n"
     ]
    },
    {
     "name": "stdout",
     "output_type": "stream",
     "text": [
      "[0.58666667 0.52       0.6        0.57333333]\n",
      "cv_scores: [0.6, 0.59, 0.5866666666666667, 0.5866666666666667, 0.57]\n",
      "n_best: 6\n"
     ]
    }
   ],
   "source": [
    "#find best n when num-folds = 4\n",
    "cv4_scores = []\n",
    "for best_n in n:\n",
    "    knn = KNeighborsClassifier(n_neighbors=best_n)\n",
    "    scores = cross_val_score(knn, x_cv, y_cv, cv=4, scoring='accuracy')\n",
    "    cv4_scores.append(scores.mean())\n",
    "    print (scores)\n",
    "\n",
    "n_best = n[np.argmax(cv4_scores)]\n",
    "print('cv_scores:', cv4_scores)\n",
    "print('n_best:', n_best)"
   ]
  },
  {
   "cell_type": "code",
   "execution_count": null,
   "metadata": {},
   "outputs": [],
   "source": [
    "#find best n when num-folds = 3\n",
    "cv3_scores = []\n",
    "for best_n in n:\n",
    "    knn = KNeighborsClassifier(n_neighbors=best_n)\n",
    "    scores = cross_val_score(knn, x_cv, y_cv, cv=3, scoring='accuracy')\n",
    "    cv3_scores.append(scores.mean())\n",
    "    print (scores)\n",
    "\n",
    "n_best = n[np.argmax(cv3_scores)]\n",
    "print('cv_scores:', cv3_scores)\n",
    "print('n_best:', n_best)"
   ]
  },
  {
   "cell_type": "code",
   "execution_count": null,
   "metadata": {},
   "outputs": [],
   "source": [
    "#n_best is 9 over n-folds 3 to 5, use this on knn\n",
    "knn = KNeighborsClassifier(n_neighbors=9)\n",
    "knn_trained = knn.fit(x_train, y_train)\n",
    "\n",
    "#performance assessment:\n",
    "y_test_pred = knn_trained.predict(x_test)\n",
    "acc = accuracy_score(y_test, y_test_pred)\n",
    "print(acc)"
   ]
  },
  {
   "cell_type": "markdown",
   "metadata": {},
   "source": [
    "# Model development for Random Forest"
   ]
  },
  {
   "cell_type": "code",
   "execution_count": null,
   "metadata": {},
   "outputs": [],
   "source": [
    "# RFC model\n",
    "#Add these imports to the top of page\n",
    "from sklearn.model_selection import cross_val_score\n",
    "from sklearn.metrics import multilabel_confusion_matrix, plot_confusion_matrix\n",
    "from sklearn.ensemble import RandomForestClassifier as RFC\n",
    "\n",
    "# random forest model creation \n",
    "#Create a Random forest classfier, use training data to fit model \n",
    "\n",
    "rf = RFC(n_estimators=50, random_state=7) \n",
    "\n",
    "rf.fit(x_train, y_train) \n",
    "\n",
    "ypredict_val=rf.predict(x_cv)\n",
    "acc_val = accuracy_score(y_test,ypredict_val)*100\n",
    "print(\"RF Accuracy_val: %.3f\" % acc_val)\n",
    "\n",
    "#rf = RFC(n_estimators=50,random_state=7)"
   ]
  },
  {
   "cell_type": "code",
   "execution_count": null,
   "metadata": {},
   "outputs": [],
   "source": [
    "#run 3 iterations of CV = 3 to 5\n",
    "#find most optimal parameter and run between values 6-10\n",
    "#best iteration was when CV=4, n=9 for all cross folds\n",
    "from sklearn.model_selection import cross_val_score #Evaluate a score by cross-validation\n",
    "import numpy as np\n",
    "depths = range(6, 10)\n",
    "print (depths)\n",
    "cv_scores = []\n",
    "for maxDepth in depths:\n",
    "    rf = RFC(max_depth = maxDepth)\n",
    "    #print('train: %s, test: %s' % (x_train, x_cv))\n",
    "    #print('Target on validated data',ypredict_val)\n",
    "    acc_val = accuracy_score(y_test,ypredict_val)*100\n",
    "    print(\"RF Accuracy_val: %.3f\" % acc_val)\n",
    "    scores = cross_val_score(rf, x_cv, y_cv, cv=3, scoring='accuracy')\n",
    "    cv_scores.append(scores.mean())\n",
    "    print (scores)\n",
    "maxDepth_best = depths[np.argmax(cv_scores)] #Returns the indices of the maximum values along an axis.\n",
    "print ('cv_scores:', cv_scores)\n",
    "print ('maxDepth_best:', maxDepth_best)"
   ]
  },
  {
   "cell_type": "code",
   "execution_count": null,
   "metadata": {},
   "outputs": [],
   "source": [
    "cv_4 =[]\n",
    "for maxDepth in depths:\n",
    "    rf = RFC(max_depth = maxDepth)\n",
    "    #print('train: %s, test: %s' % (x_train, x_cv))\n",
    "    #print('Target on validated data',ypredict_val)\n",
    "    acc_val = accuracy_score(y_test,ypredict_val)*100\n",
    "    print(\"RF Accuracy_val: %.3f\" % acc_val)\n",
    "    scores = cross_val_score(rf, x_cv, y_cv, cv=4, scoring='accuracy')\n",
    "    cv_4.append(scores.mean())\n",
    "    print (scores)\n",
    "maxDepth_best = depths[np.argmax(cv_4)] #Returns the indices of the maximum values along an axis.\n",
    "print ('cv_scores:', cv_4)\n",
    "print ('maxDepth_best:', maxDepth_best)"
   ]
  },
  {
   "cell_type": "code",
   "execution_count": null,
   "metadata": {},
   "outputs": [],
   "source": [
    "cv_5=[]\n",
    "for maxDepth in depths:\n",
    "    rf = RFC(max_depth = maxDepth)\n",
    "    #print('train: %s, test: %s' % (x_train, x_cv))\n",
    "    #print('Target on validated data',ypredict_val)\n",
    "    acc_val = accuracy_score(y_test,ypredict_val)*100\n",
    "    print(\"RF Accuracy_val: %.3f\" % acc_val)\n",
    "    scores = cross_val_score(rf, x_cv, y_cv, cv=5, scoring='accuracy')\n",
    "    cv_5.append(scores.mean())\n",
    "    print (scores)\n",
    "maxDepth_best = depths[np.argmax(cv_5)] #Returns the indices of the maximum values along an axis.\n",
    "print ('cv_scores:', cv_5)\n",
    "print ('maxDepth_best:', maxDepth_best)\n"
   ]
  },
  {
   "cell_type": "code",
   "execution_count": null,
   "metadata": {},
   "outputs": [],
   "source": [
    "#maxDepthbest is 9 over n-folds 3 to 5, use this on rfc\n",
    "rf = RFC(maxDepth_best)\n",
    "rfc_trained= rf.fit(x_train, y_train)\n",
    "\n",
    "#performance assessment:\n",
    "y_test_predict = rfc_trained.predict(x_cv)\n",
    "acc = accuracy_score(y_test, y_test_predict)\n",
    "print(acc)"
   ]
  },
  {
   "cell_type": "markdown",
   "metadata": {},
   "source": [
    "# Step 6 : Applying the KNN model on test data which has highest accuracy"
   ]
  },
  {
   "cell_type": "code",
   "execution_count": null,
   "metadata": {},
   "outputs": [],
   "source": [
    "#we'll also run n=10 as well just to see if we have a better result\n",
    "#don't bother running 6-8 as they don't perform as well based off kfold cv\n",
    "knn = KNeighborsClassifier(n_neighbors=10)\n",
    "knn_trained10 = knn.fit(x_train, y_train)\n",
    "\n",
    "#performance assessment:\n",
    "y_test_pred = knn_trained10.predict(x_test)\n",
    "acc = accuracy_score(y_test, y_test_pred)\n",
    "print(acc)"
   ]
  },
  {
   "cell_type": "code",
   "execution_count": null,
   "metadata": {},
   "outputs": [],
   "source": [
    "#print confusion matrix + plot\n",
    "print(multilabel_confusion_matrix(y_test, y_test_pred))\n",
    "plot_confusion_matrix(knn_trained, x_test, y_test)"
   ]
  },
  {
   "cell_type": "markdown",
   "metadata": {},
   "source": [
    "# Saving the selected model into model.pickle file"
   ]
  },
  {
   "cell_type": "code",
   "execution_count": null,
   "metadata": {},
   "outputs": [],
   "source": [
    "#dump knn model to a saved file in current directory\n",
    "pickle.dump(knn_trained10, open('model.pickle', 'wb'))"
   ]
  },
  {
   "cell_type": "code",
   "execution_count": null,
   "metadata": {},
   "outputs": [],
   "source": [
    "#load model to see if saved properly\n",
    "loaded_model = pickle.load(open('model.pickle', 'rb'))"
   ]
  },
  {
   "cell_type": "code",
   "execution_count": null,
   "metadata": {},
   "outputs": [],
   "source": [
    "#check result is the same for reproducability\n",
    "result = loaded_model.score(x_test, y_test)\n",
    "print(result)"
   ]
  },
  {
   "cell_type": "markdown",
   "metadata": {},
   "source": [
    "# Step 7 : Chocolate Rating mapped geographically"
   ]
  },
  {
   "cell_type": "code",
   "execution_count": null,
   "metadata": {},
   "outputs": [],
   "source": [
    "import pandas as pd\n",
    "import plotly.graph_objects as go\n",
    "pd.set_option('display.max_rows', None)"
   ]
  },
  {
   "cell_type": "code",
   "execution_count": null,
   "metadata": {},
   "outputs": [],
   "source": [
    "#dataset source: https://www.kaggle.com/juanumusic/countries-iso-codes\n",
    "world_df = pd.read_csv('wikipedia-iso-country-codes.csv')\n",
    "world_df = world_df.rename(columns={'English short name lower case': 'Country', 'Alpha-3 code': 'Code'})\n",
    "world_df = world_df.drop(['Alpha-2 code', 'Numeric code', 'ISO 3166-2'], axis=1)\n",
    "world_df.head()"
   ]
  },
  {
   "cell_type": "code",
   "execution_count": null,
   "metadata": {},
   "outputs": [],
   "source": [
    "#Fix columns in df_country_ratings to match mappings\n",
    "world_df['Country'] = world_df['Country'].replace(\"Saint Lucia\", \"St. Lucia\")\n",
    "world_df['Country'] = world_df['Country'].replace(\"United Kingdom\", \"U.K.\")\n",
    "world_df['Country'] = world_df['Country'].replace(\"United States Of America\", \"U.S.A.\")\n",
    "world_df['Country'] = world_df['Country'].replace(\"Sao Tome and Principe\", \"Sao Tome\")\n",
    "world_df['Country'] = world_df['Country'].replace(\"Korea, Republic of (South Korea)\", \"South Korea\")"
   ]
  },
  {
   "cell_type": "code",
   "execution_count": null,
   "metadata": {},
   "outputs": [],
   "source": [
    "#select only company location and ratings\n",
    "df_country_ratings = df_clean[['Company Location', 'Rating']]"
   ]
  },
  {
   "cell_type": "code",
   "execution_count": null,
   "metadata": {},
   "outputs": [],
   "source": [
    "#get the mean of each country's ratings\n",
    "df_gp_country_ratings = df_country_ratings.groupby(['Company Location', 'Rating']).sum().reset_index().groupby('Company Location').mean()"
   ]
  },
  {
   "cell_type": "code",
   "execution_count": null,
   "metadata": {},
   "outputs": [],
   "source": [
    "#reset the current index set as company location so we can use this column in future\n",
    "df_gp_country_ratings =df_gp_country_ratings.reset_index()\n",
    "#check for num of countries\n",
    "df_gp_country_ratings.shape"
   ]
  },
  {
   "cell_type": "code",
   "execution_count": null,
   "metadata": {},
   "outputs": [],
   "source": [
    "checkna = pd.merge(df_gp_country_ratings, world_df, left_on='Company Location', right_on='Country', how='left')"
   ]
  },
  {
   "cell_type": "code",
   "execution_count": null,
   "metadata": {},
   "outputs": [],
   "source": [
    "#merge both world dataframe column and our dataset by company location\n",
    "df_gp_country_ratings = df_gp_country_ratings.merge(world_df, left_on='Company Location', right_on='Country', how='left')"
   ]
  },
  {
   "cell_type": "code",
   "execution_count": null,
   "metadata": {},
   "outputs": [],
   "source": [
    "df_country_ratings_mapping = df_gp_country_ratings.drop(['Country'], axis=1)"
   ]
  },
  {
   "cell_type": "code",
   "execution_count": null,
   "metadata": {},
   "outputs": [],
   "source": [
    "df_country_ratings_mapping"
   ]
  },
  {
   "cell_type": "code",
   "execution_count": null,
   "metadata": {},
   "outputs": [],
   "source": [
    "#check for data loss post-join\n",
    "df_country_ratings_mapping.shape"
   ]
  },
  {
   "cell_type": "code",
   "execution_count": null,
   "metadata": {},
   "outputs": [],
   "source": [
    "fig = go.Figure(data=go.Choropleth(\n",
    "    locations = df_country_ratings_mapping['Code'],\n",
    "    z = df_country_ratings_mapping['Rating'],\n",
    "    text = df_country_ratings_mapping['Company Location'],\n",
    "    colorscale = 'Earth',\n",
    "    reversescale=True,\n",
    "    marker_line_width=0.5,\n",
    "    colorbar_title = 'Ratings across the world',\n",
    "))\n"
   ]
  },
  {
   "cell_type": "code",
   "execution_count": null,
   "metadata": {
    "scrolled": true
   },
   "outputs": [],
   "source": [
    "fig.show()"
   ]
  },
  {
   "cell_type": "markdown",
   "metadata": {},
   "source": [
    "# Finding corelation among columns and most important feature"
   ]
  },
  {
   "cell_type": "code",
   "execution_count": null,
   "metadata": {},
   "outputs": [],
   "source": [
    "#To show the correlation of several numerical columns\n",
    "# correlation matrix \n",
    "correlation_matrix = df_clean.corr()\n",
    "correlation_matrix.style.background_gradient(axis=0, low=0.75, high=1.0) "
   ]
  },
  {
   "cell_type": "code",
   "execution_count": null,
   "metadata": {},
   "outputs": [],
   "source": [
    "#feature importance of random forest\n",
    "\n",
    "#feature importance graph for random forest for first suit\n",
    "def featureimportance(model, X_train1, y_train1):\n",
    "    \n",
    "    models = RFC()\n",
    "    models.fit(x_train, y_train)\n",
    "    data = pd.DataFrame(models.feature_importances_, x.columns, columns=[\"feature\"])\n",
    "    data = data.sort_values(by='feature', ascending=False).reset_index()\n",
    "    plt.figure(figsize=[6,6])\n",
    "    sns.barplot(x='index', y='feature', data=data[:10], palette=\"Greens_d\")\n",
    "    plt.title('Feature importance of Random Forest')\n",
    "    plt.xticks(rotation=55)\n",
    "    plt.show();\n",
    "featureimportance(RFC, y_train,y_cv )  "
   ]
  },
  {
   "cell_type": "code",
   "execution_count": null,
   "metadata": {},
   "outputs": [],
   "source": []
  },
  {
   "cell_type": "code",
   "execution_count": null,
   "metadata": {},
   "outputs": [],
   "source": []
  }
 ],
 "metadata": {
  "kernelspec": {
   "display_name": "Python 3",
   "language": "python",
   "name": "python3"
  },
  "language_info": {
   "codemirror_mode": {
    "name": "ipython",
    "version": 3
   },
   "file_extension": ".py",
   "mimetype": "text/x-python",
   "name": "python",
   "nbconvert_exporter": "python",
   "pygments_lexer": "ipython3",
   "version": "3.8.5"
  }
 },
 "nbformat": 4,
 "nbformat_minor": 4
}
